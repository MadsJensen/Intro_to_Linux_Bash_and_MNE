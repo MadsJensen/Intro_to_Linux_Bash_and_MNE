{
 "cells": [
  {
   "cell_type": "markdown",
   "metadata": {},
   "source": [
    "# Remote Desktop and Mounting  #"
   ]
  },
  {
   "cell_type": "markdown",
   "metadata": {},
   "source": [
    "## Wiki ##\n",
    "\n",
    "[wiki.pet.auh.dk/wiki/Remote_Desktop_Hyades](http://wiki.pet.auh.dk/wiki/Remote_Desktop_Hyades)\n",
    "\n",
    "[wiki.pet.auh.dk/wiki/Mount_Hyades_Mac](http://wiki.pet.auh.dk/wiki/Mount_Hyades_Mac)\n"
   ]
  },
  {
   "cell_type": "markdown",
   "metadata": {},
   "source": [
    "\n",
    "## Remote Desktop ##\n",
    "\n",
    "- Graphical interface\n",
    "- Login from both DNC & outside\n",
    "\t- VPN-like (again see the wiki)"
   ]
  },
  {
   "cell_type": "markdown",
   "metadata": {},
   "source": [
    "## Mount ##\n",
    "\n",
    "Make an external file system accessible for the present computer.\n",
    "\n",
    "- Filesystems (*nix)\n",
    "\t- e.g. usb-stick & CD-rom."
   ]
  },
  {
   "cell_type": "markdown",
   "metadata": {
    "collapsed": false
   },
   "source": [
    "### Projects structure ###\n",
    "```\n",
    "/\n",
    "    |-MyProject \\n\n",
    "        |- raw\n",
    "        |- scratch\n",
    "        |- scripts\n",
    "        |- misc\n",
    "        |- results\n",
    "        |- docs\n",
    "    \n",
    "```"
   ]
  },
  {
   "cell_type": "markdown",
   "metadata": {},
   "source": [
    "**On mac**\n",
    "\n",
    "```\n",
    "/Volumes/*server*\n",
    "```"
   ]
  },
  {
   "cell_type": "markdown",
   "metadata": {},
   "source": [
    "** On Windows**\n",
    "\n",
    "Get a drive letter\n"
   ]
  },
  {
   "cell_type": "markdown",
   "metadata": {},
   "source": [
    "## SSH ##\n",
    "\t- *Inside* DNC -> drive\n",
    "\t- *Outside* DNC -> terminal"
   ]
  },
  {
   "cell_type": "markdown",
   "metadata": {},
   "source": [
    "### Hidden option ####\n",
    "* SSHFS"
   ]
  }
 ],
 "metadata": {
  "kernelspec": {
   "display_name": "Python 2",
   "language": "python",
   "name": "python2"
  },
  "language_info": {
   "codemirror_mode": {
    "name": "ipython",
    "version": 2
   },
   "file_extension": ".py",
   "mimetype": "text/x-python",
   "name": "python",
   "nbconvert_exporter": "python",
   "pygments_lexer": "ipython2",
   "version": "2.7.10"
  }
 },
 "nbformat": 4,
 "nbformat_minor": 0
}
