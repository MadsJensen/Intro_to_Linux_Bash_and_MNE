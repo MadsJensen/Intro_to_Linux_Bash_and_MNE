{
 "metadata": {
  "name": "",
  "signature": "sha256:cd6c78423b75094fced42a7bbd579346dbd0295cbb5b566901b0585fec791192"
 },
 "nbformat": 3,
 "nbformat_minor": 0,
 "worksheets": [
  {
   "cells": [
    {
     "cell_type": "heading",
     "level": 1,
     "metadata": {},
     "source": [
      "Introduction to Python"
     ]
    },
    {
     "cell_type": "heading",
     "level": 2,
     "metadata": {},
     "source": [
      "python from Monty Python"
     ]
    },
    {
     "cell_type": "code",
     "collapsed": false,
     "input": [
      "from IPython.display import Image\n",
      "Image(url='https://www.python.org/static/community_logos/python-logo-master-v3-TM.png')\n"
     ],
     "language": "python",
     "metadata": {},
     "outputs": [
      {
       "html": [
        "<img src=\"https://www.python.org/static/community_logos/python-logo-master-v3-TM.png\"/>"
       ],
       "metadata": {},
       "output_type": "pyout",
       "prompt_number": 5,
       "text": [
        "<IPython.core.display.Image at 0x26c1390>"
       ]
      }
     ],
     "prompt_number": 5
    },
    {
     "cell_type": "code",
     "collapsed": false,
     "input": [
      "from IPython.display import YouTubeVideo\n",
      "YouTubeVideo(\"cV0tCphFMr8\")\n",
      "\n",
      "% jump to 1 min"
     ],
     "language": "python",
     "metadata": {},
     "outputs": [
      {
       "html": [
        "\n",
        "        <iframe\n",
        "            width=\"400\"\n",
        "            height=300\"\n",
        "            src=\"https://www.youtube.com/embed/cV0tCphFMr8\"\n",
        "            frameborder=\"0\"\n",
        "            allowfullscreen\n",
        "        ></iframe>\n",
        "        "
       ],
       "metadata": {},
       "output_type": "pyout",
       "prompt_number": 1,
       "text": [
        "<IPython.lib.display.YouTubeVideo at 0x26c19d0>"
       ]
      }
     ],
     "prompt_number": 1
    },
    {
     "cell_type": "heading",
     "level": 2,
     "metadata": {},
     "source": [
      "Pros & Cons of Python"
     ]
    },
    {
     "cell_type": "markdown",
     "metadata": {},
     "source": [
      "**Pros**:\n",
      "    * Free (as in beer & as in speech)\n",
      "        - i.e. open source \n",
      "    * Fast \n",
      "    * Easy\n",
      "    * A lot of toolboxes (called *packages*)"
     ]
    },
    {
     "cell_type": "markdown",
     "metadata": {},
     "source": [
      "Cons:\n",
      "    * not Matlab (some will argue this is on the wrong list)\n",
      "    * "
     ]
    }
   ],
   "metadata": {}
  }
 ]
}