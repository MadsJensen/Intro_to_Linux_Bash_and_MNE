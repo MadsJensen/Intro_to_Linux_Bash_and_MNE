{
 "metadata": {
  "name": "",
  "signature": "sha256:b8853af0df6874373d20054bd9a2ba4f3aa279c2f6f3258e3c22684df0667026"
 },
 "nbformat": 3,
 "nbformat_minor": 0,
 "worksheets": [
  {
   "cells": [
    {
     "cell_type": "heading",
     "level": 1,
     "metadata": {},
     "source": [
      "Introduction to Python"
     ]
    },
    {
     "cell_type": "markdown",
     "metadata": {},
     "source": [
      "*python* from Monty Python, not the snake"
     ]
    },
    {
     "cell_type": "code",
     "collapsed": false,
     "input": [
      "from IPython.display import Image\n",
      "Image(url='https://www.python.org/static/community_logos/python-logo-master-v3-TM.png')\n"
     ],
     "language": "python",
     "metadata": {},
     "outputs": [
      {
       "html": [
        "<img src=\"https://www.python.org/static/community_logos/python-logo-master-v3-TM.png\"/>"
       ],
       "metadata": {},
       "output_type": "pyout",
       "prompt_number": 5,
       "text": [
        "<IPython.core.display.Image at 0x26c1390>"
       ]
      }
     ],
     "prompt_number": 5
    },
    {
     "cell_type": "code",
     "collapsed": false,
     "input": [
      "from IPython.display import YouTubeVideo\n",
      "YouTubeVideo(\"cV0tCphFMr8\")\n",
      "\n",
      "# jump to 1 min"
     ],
     "language": "python",
     "metadata": {},
     "outputs": [
      {
       "html": [
        "\n",
        "        <iframe\n",
        "            width=\"400\"\n",
        "            height=300\"\n",
        "            src=\"https://www.youtube.com/embed/cV0tCphFMr8\"\n",
        "            frameborder=\"0\"\n",
        "            allowfullscreen\n",
        "        ></iframe>\n",
        "        "
       ],
       "metadata": {},
       "output_type": "pyout",
       "prompt_number": 1,
       "text": [
        "<IPython.lib.display.YouTubeVideo at 0x24b2a10>"
       ]
      }
     ],
     "prompt_number": 1
    },
    {
     "cell_type": "heading",
     "level": 2,
     "metadata": {},
     "source": [
      "Pros & Cons of Python"
     ]
    },
    {
     "cell_type": "markdown",
     "metadata": {},
     "source": [
      "**Pros:**\n",
      "    * Free (as in beer & as in speech)\n",
      "        - i.e. open source \n",
      "    * Fast \n",
      "    * Easy\n",
      "    * A lot of toolboxes (called *packages*)"
     ]
    },
    {
     "cell_type": "markdown",
     "metadata": {},
     "source": [
      "**Cons:**\n",
      "    * not Matlab (some will argue this is on the wrong list)\n",
      "    * a lot of toolboxes are written for Matlab"
     ]
    },
    {
     "cell_type": "heading",
     "level": 2,
     "metadata": {},
     "source": [
      "Python"
     ]
    },
    {
     "cell_type": "markdown",
     "metadata": {},
     "source": [
      "* indention sensitive\n",
      "* zero indexed! \n",
      "    - Matlab is 1 indexed\n",
      "* comments \\#"
     ]
    },
    {
     "cell_type": "code",
     "collapsed": false,
     "input": [
      "# simple for loop\n",
      "\n",
      "for i in range(10):\n",
      "    print i"
     ],
     "language": "python",
     "metadata": {},
     "outputs": [
      {
       "output_type": "stream",
       "stream": "stdout",
       "text": [
        "0\n",
        "1\n",
        "2\n",
        "3\n",
        "4\n",
        "5\n",
        "6\n",
        "7\n",
        "8\n",
        "9\n"
       ]
      }
     ],
     "prompt_number": 1
    },
    {
     "cell_type": "heading",
     "level": 1,
     "metadata": {},
     "source": [
      "Packages"
     ]
    },
    {
     "cell_type": "markdown",
     "metadata": {},
     "source": [
      "A Toolbox is called a *package*\n",
      "needs to be imported in order to be used"
     ]
    },
    {
     "cell_type": "code",
     "collapsed": false,
     "input": [
      "import numpy as np\n",
      "import pylab as plt\n",
      "%matplotlib inline"
     ],
     "language": "python",
     "metadata": {},
     "outputs": [],
     "prompt_number": 7
    },
    {
     "cell_type": "heading",
     "level": 1,
     "metadata": {},
     "source": [
      "IPython"
     ]
    },
    {
     "cell_type": "markdown",
     "metadata": {},
     "source": [
      "* Interactive python!\n",
      "* enhanced python interpretor\n",
      "\n",
      "\n",
      "IPython come in different ways:\n",
      "    - terminal\n",
      "    - qtconsole\n",
      "    - notebook\n",
      "\n",
      "\n",
      "IPython interacts with the shell\n",
      "    - !\n",
      "    - %%bash\n",
      "\n"
     ]
    },
    {
     "cell_type": "heading",
     "level": 1,
     "metadata": {},
     "source": [
      "Numpy"
     ]
    },
    {
     "cell_type": "code",
     "collapsed": false,
     "input": [
      "adama = np.random.rand(10, 2) # generate an array with 10 * 2 random numbers between 0 & 1\n",
      "adama"
     ],
     "language": "python",
     "metadata": {},
     "outputs": [
      {
       "metadata": {},
       "output_type": "pyout",
       "prompt_number": 26,
       "text": [
        "array([[ 0.05030774,  0.24256382],\n",
        "       [ 0.18146845,  0.12070194],\n",
        "       [ 0.89779644,  0.70697488],\n",
        "       [ 0.08017375,  0.37010024],\n",
        "       [ 0.59708502,  0.78433869],\n",
        "       [ 0.39196477,  0.78508553],\n",
        "       [ 0.87973663,  0.32529513],\n",
        "       [ 0.13708353,  0.74233008],\n",
        "       [ 0.51980577,  0.91916946],\n",
        "       [ 0.72270087,  0.84687664]])"
       ]
      }
     ],
     "prompt_number": 26
    },
    {
     "cell_type": "code",
     "collapsed": false,
     "input": [
      "plt.plot(adama)"
     ],
     "language": "python",
     "metadata": {},
     "outputs": [
      {
       "metadata": {},
       "output_type": "pyout",
       "prompt_number": 27,
       "text": [
        "[<matplotlib.lines.Line2D at 0x3b84790>,\n",
        " <matplotlib.lines.Line2D at 0x3b84a10>]"
       ]
      },
      {
       "metadata": {},
       "output_type": "display_data",
       "png": "[encoded data removed]",
       "text": [
        "<matplotlib.figure.Figure at 0x39a97d0>"
       ]
      }
     ],
     "prompt_number": 27
    },
    {
     "cell_type": "code",
     "collapsed": false,
     "input": [
      "adama.T.shape"
     ],
     "language": "python",
     "metadata": {},
     "outputs": [
      {
       "metadata": {},
       "output_type": "pyout",
       "prompt_number": 29,
       "text": [
        "(2, 10)"
       ]
      }
     ],
     "prompt_number": 29
    },
    {
     "cell_type": "code",
     "collapsed": false,
     "input": [],
     "language": "python",
     "metadata": {},
     "outputs": []
    }
   ],
   "metadata": {}
  }
 ]
}