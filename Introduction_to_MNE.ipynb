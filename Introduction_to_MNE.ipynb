{
 "metadata": {
  "name": "",
  "signature": "sha256:c02237fae92b00320e8888c942fb789381ceff28170c457dcd89311891ba3de7"
 },
 "nbformat": 3,
 "nbformat_minor": 0,
 "worksheets": [
  {
   "cells": [
    {
     "cell_type": "heading",
     "level": 1,
     "metadata": {},
     "source": [
      "Introduction to MNE"
     ]
    },
    {
     "cell_type": "heading",
     "level": 2,
     "metadata": {},
     "source": [
      "Overview of the MNE family"
     ]
    },
    {
     "cell_type": "markdown",
     "metadata": {},
     "source": [
      "* What is MNE?\n",
      "\t- MNE-C\n",
      "\t- MNE-python\n",
      "\t- MNE-Matlab\n",
      "\t- MNE-scripts\n"
     ]
    }
   ],
   "metadata": {}
  }
 ]
}