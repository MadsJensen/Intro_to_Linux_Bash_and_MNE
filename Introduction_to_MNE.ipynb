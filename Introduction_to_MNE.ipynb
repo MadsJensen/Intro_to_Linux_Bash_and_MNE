{
 "metadata": {
  "name": "",
  "signature": "sha256:287e65e41418ea43e46dff6fab49a5fc9339c00825696f1cc7ee0720277e2127"
 },
 "nbformat": 3,
 "nbformat_minor": 0,
 "worksheets": [
  {
   "cells": [
    {
     "cell_type": "heading",
     "level": 1,
     "metadata": {},
     "source": [
      "Introduction to MNE"
     ]
    },
    {
     "cell_type": "heading",
     "level": 2,
     "metadata": {},
     "source": [
      "Overview of the MNE family"
     ]
    },
    {
     "cell_type": "markdown",
     "metadata": {},
     "source": [
      "* What is MNE?\n",
      "\t- MNE-C\n",
      "\t- MNE-python\n",
      "\t- MNE-Matlab\n",
      "\t- MNE-scripts\n"
     ]
    },
    {
     "cell_type": "heading",
     "level": 1,
     "metadata": {},
     "source": [
      "MNE-python"
     ]
    },
    {
     "cell_type": "heading",
     "level": 2,
     "metadata": {},
     "source": [
      "import settings"
     ]
    },
    {
     "cell_type": "code",
     "collapsed": false,
     "input": [
      "import numpy as np\n",
      "import mne\n",
      "from mne.preprocessing import ICA\n",
      "from mne.minimum_norm import (make_inverse_operator,\n",
      "                              write_inverse_operator)\n",
      "import os\n",
      "# directories ISIS\n",
      "subjects_dir = \"/volatile/mje/training_data/fs_subjects_dir/\"\n",
      "data_path = \"/volatile/mje/training_data/\"\n",
      "\n",
      "os.chdir(data_path)\n",
      "\n",
      "n_jobs = 4 # number of processors to use\n",
      "\n",
      "# epoch variables\n",
      "tmin, tmax = -0.5, 0.5\n",
      "baseline = (-0.5, -0.3)  # baseline time\n",
      "reject = dict(mag=4e-12, grad=4000e-13)\n",
      "\n",
      "fs_sub = \"0003_WVZ\"\n",
      "\n",
      "# only for ipython notebook\n",
      "%matplotlib inline"
     ],
     "language": "python",
     "metadata": {},
     "outputs": [],
     "prompt_number": 6
    },
    {
     "cell_type": "heading",
     "level": 2,
     "metadata": {},
     "source": [
      "Processing raw files"
     ]
    },
    {
     "cell_type": "code",
     "collapsed": false,
     "input": [
      "raw = mne.fiff.Raw(data_path +\n",
      "                          \"sef_bilat-tsss-mc-autobad.fif\", preload=True)\n",
      "\n",
      "picks = mne.fiff.pick_types(raw.info, meg=True, eeg=False, eog=True,\n",
      "                                   emg=True, ecg=True, exclude='bads')\n",
      "\n",
      "raw.filter(None, 40, method='iir', n_jobs=n_jobs)\n"
     ],
     "language": "python",
     "metadata": {},
     "outputs": [
      {
       "output_type": "stream",
       "stream": "stdout",
       "text": [
        "Opening raw data file /volatile/mje/training_data/sef_bilat-tsss-mc-autobad.fif...\n"
       ]
      },
      {
       "output_type": "stream",
       "stream": "stdout",
       "text": [
        "Current compensation grade : 0\n"
       ]
      },
      {
       "output_type": "stream",
       "stream": "stdout",
       "text": [
        "    Range : 60000 ... 371999 =     60.000 ...   371.999 secs\n"
       ]
      },
      {
       "output_type": "stream",
       "stream": "stdout",
       "text": [
        "Ready.\n"
       ]
      },
      {
       "output_type": "stream",
       "stream": "stdout",
       "text": [
        "Adding average EEG reference projection.\n"
       ]
      },
      {
       "output_type": "stream",
       "stream": "stdout",
       "text": [
        "Reading 0 ... 311999  =      0.000 ...   311.999 secs...\n"
       ]
      },
      {
       "output_type": "stream",
       "stream": "stdout",
       "text": [
        "[done]\n"
       ]
      },
      {
       "output_type": "stream",
       "stream": "stdout",
       "text": [
        "Low-pass filtering at 48 Hz\n"
       ]
      },
      {
       "output_type": "stream",
       "stream": "stderr",
       "text": [
        "[Parallel(n_jobs=4)]: Done   1 out of 380 | elapsed:    2.2s remaining: 14.1min\n",
        "[Parallel(n_jobs=4)]: Done  74 out of 380 | elapsed:    6.4s remaining:   26.5s\n",
        "[Parallel(n_jobs=4)]: Done 151 out of 380 | elapsed:   11.8s remaining:   18.0s\n",
        "[Parallel(n_jobs=4)]: Done 228 out of 380 | elapsed:   17.1s remaining:   11.4s\n",
        "[Parallel(n_jobs=4)]: Done 305 out of 380 | elapsed:   25.1s remaining:    6.2s\n",
        "[Parallel(n_jobs=4)]: Done 380 out of 380 | elapsed:   34.6s finished\n"
       ]
      }
     ],
     "prompt_number": 2
    },
    {
     "cell_type": "code",
     "collapsed": false,
     "input": [
      "raw.info"
     ],
     "language": "python",
     "metadata": {},
     "outputs": [
      {
       "metadata": {},
       "output_type": "pyout",
       "prompt_number": 4,
       "text": [
        "<Info | 26 non-empty fields\n",
        "    acq_pars : unicode | 25238 items\n",
        "    acq_stim : unicode | 11692 items\n",
        "    bads : list | 0 items\n",
        "    buffer_size_sec : numpy.float64 | 1.0\n",
        "    ch_names : list | EOG001, ECG002, EOG003, EMG004, EMG005, EEG001, EEG002, ...\n",
        "    chs : list | 410 items\n",
        "    comps : list | 0 items\n",
        "    description : unicode | 12 items\n",
        "    dev_head_t : dict | 3 items\n",
        "    dig : list | 272 items\n",
        "    experimenter : unicode | 24 items\n",
        "    file_id : dict | 4 items\n",
        "    filename : str | /volatile/.../sef_bilat-tsss-mc-autobad.fif\n",
        "    highpass : float | 0.10000000149\n",
        "    line_freq : float | 50.0\n",
        "    lowpass : float | 48.0\n",
        "    meas_date : numpy.ndarray | 2014-03-18 13:47:23\n",
        "    meas_id : dict | 4 items\n",
        "    nchan : int | 410\n",
        "    orig_blocks : list | 4 items\n",
        "    orig_fid_str : instance | <StringIO.StringIO instance at 0x250dc20>\n",
        "    proj_id : numpy.ndarray | 1 items\n",
        "    proj_name : unicode | 8 items\n",
        "    projs : list | Average EEG reference: off\n",
        "    sfreq : float | 1000.0\n",
        "    subject_info : dict | 6 items\n",
        "    ctf_head_t : NoneType\n",
        "    dev_ctf_t : NoneType\n",
        ">"
       ]
      }
     ],
     "prompt_number": 4
    },
    {
     "cell_type": "code",
     "collapsed": false,
     "input": [],
     "language": "python",
     "metadata": {},
     "outputs": []
    },
    {
     "cell_type": "code",
     "collapsed": false,
     "input": [
      "events = mne.find_events(raw, stim_channel='STI101')\n",
      "event_ids = {\"Left\": 1, \"Right\": 2}  # check this is right\n",
      "\n",
      "epochs = mne.Epochs(raw, events, event_ids, tmin, tmax,\n",
      "                           picks=picks, baseline=(None, -0.2),\n",
      "                           preload=True, reject=reject)"
     ],
     "language": "python",
     "metadata": {},
     "outputs": [
      {
       "output_type": "stream",
       "stream": "stdout",
       "text": [
        "320 events found\n"
       ]
      },
      {
       "output_type": "stream",
       "stream": "stdout",
       "text": [
        "Events id: [1 2]\n"
       ]
      },
      {
       "output_type": "stream",
       "stream": "stdout",
       "text": [
        "1 projection items activated\n"
       ]
      },
      {
       "output_type": "stream",
       "stream": "stdout",
       "text": [
        "320 matching events found\n"
       ]
      },
      {
       "output_type": "stream",
       "stream": "stdout",
       "text": [
        "Applying baseline correction ... (mode: mean)\n"
       ]
      },
      {
       "output_type": "stream",
       "stream": "stdout",
       "text": [
        "Applying baseline correction ... (mode: mean)\n"
       ]
      },
      {
       "output_type": "stream",
       "stream": "stdout",
       "text": [
        "Applying baseline correction ... (mode: mean)\n"
       ]
      },
      {
       "output_type": "stream",
       "stream": "stdout",
       "text": [
        "Applying baseline correction ... (mode: mean)\n"
       ]
      },
      {
       "output_type": "stream",
       "stream": "stdout",
       "text": [
        "Applying baseline correction ... (mode: mean)\n"
       ]
      },
      {
       "output_type": "stream",
       "stream": "stdout",
       "text": [
        "Applying baseline correction ... (mode: mean)\n"
       ]
      },
      {
       "output_type": "stream",
       "stream": "stdout",
       "text": [
        "Applying baseline correction ... (mode: mean)\n"
       ]
      },
      {
       "output_type": "stream",
       "stream": "stdout",
       "text": [
        "Applying baseline correction ... (mode: mean)\n"
       ]
      },
      {
       "output_type": "stream",
       "stream": "stdout",
       "text": [
        "Applying baseline correction ... (mode: mean)\n"
       ]
      },
      {
       "output_type": "stream",
       "stream": "stdout",
       "text": [
        "Applying baseline correction ... (mode: mean)\n"
       ]
      },
      {
       "output_type": "stream",
       "stream": "stdout",
       "text": [
        "Applying baseline correction ... (mode: mean)\n"
       ]
      },
      {
       "output_type": "stream",
       "stream": "stdout",
       "text": [
        "Applying baseline correction ... (mode: mean)\n"
       ]
      },
      {
       "output_type": "stream",
       "stream": "stdout",
       "text": [
        "Applying baseline correction ... (mode: mean)\n"
       ]
      },
      {
       "output_type": "stream",
       "stream": "stdout",
       "text": [
        "Applying baseline correction ... (mode: mean)\n"
       ]
      },
      {
       "output_type": "stream",
       "stream": "stdout",
       "text": [
        "Applying baseline correction ... (mode: mean)\n"
       ]
      },
      {
       "output_type": "stream",
       "stream": "stdout",
       "text": [
        "Applying baseline correction ... (mode: mean)\n"
       ]
      },
      {
       "output_type": "stream",
       "stream": "stdout",
       "text": [
        "Applying baseline correction ... (mode: mean)\n"
       ]
      },
      {
       "output_type": "stream",
       "stream": "stdout",
       "text": [
        "Applying baseline correction ... (mode: mean)\n"
       ]
      },
      {
       "output_type": "stream",
       "stream": "stdout",
       "text": [
        "Applying baseline correction ... (mode: mean)\n"
       ]
      },
      {
       "output_type": "stream",
       "stream": "stdout",
       "text": [
        "Applying baseline correction ... (mode: mean)\n"
       ]
      },
      {
       "output_type": "stream",
       "stream": "stdout",
       "text": [
        "Applying baseline correction ... (mode: mean)\n"
       ]
      },
      {
       "output_type": "stream",
       "stream": "stdout",
       "text": [
        "Applying baseline correction ... (mode: mean)\n"
       ]
      },
      {
       "output_type": "stream",
       "stream": "stdout",
       "text": [
        "Applying baseline correction ... (mode: mean)\n"
       ]
      },
      {
       "output_type": "stream",
       "stream": "stdout",
       "text": [
        "Applying baseline correction ... (mode: mean)\n"
       ]
      },
      {
       "output_type": "stream",
       "stream": "stdout",
       "text": [
        "Applying baseline correction ... (mode: mean)\n"
       ]
      },
      {
       "output_type": "stream",
       "stream": "stdout",
       "text": [
        "Applying baseline correction ... (mode: mean)\n"
       ]
      },
      {
       "output_type": "stream",
       "stream": "stdout",
       "text": [
        "Applying baseline correction ... (mode: mean)\n"
       ]
      },
      {
       "output_type": "stream",
       "stream": "stdout",
       "text": [
        "Applying baseline correction ... (mode: mean)\n"
       ]
      },
      {
       "output_type": "stream",
       "stream": "stdout",
       "text": [
        "Applying baseline correction ... (mode: mean)\n"
       ]
      },
      {
       "output_type": "stream",
       "stream": "stdout",
       "text": [
        "Applying baseline correction ... (mode: mean)\n"
       ]
      },
      {
       "output_type": "stream",
       "stream": "stdout",
       "text": [
        "Applying baseline correction ... (mode: mean)\n"
       ]
      },
      {
       "output_type": "stream",
       "stream": "stdout",
       "text": [
        "Applying baseline correction ... (mode: mean)\n"
       ]
      },
      {
       "output_type": "stream",
       "stream": "stdout",
       "text": [
        "Applying baseline correction ... (mode: mean)\n"
       ]
      },
      {
       "output_type": "stream",
       "stream": "stdout",
       "text": [
        "Applying baseline correction ... (mode: mean)\n"
       ]
      },
      {
       "output_type": "stream",
       "stream": "stdout",
       "text": [
        "Applying baseline correction ... (mode: mean)\n"
       ]
      },
      {
       "output_type": "stream",
       "stream": "stdout",
       "text": [
        "Applying baseline correction ... (mode: mean)\n"
       ]
      },
      {
       "output_type": "stream",
       "stream": "stdout",
       "text": [
        "Applying baseline correction ... (mode: mean)\n"
       ]
      },
      {
       "output_type": "stream",
       "stream": "stdout",
       "text": [
        "Applying baseline correction ... (mode: mean)\n"
       ]
      },
      {
       "output_type": "stream",
       "stream": "stdout",
       "text": [
        "Applying baseline correction ... (mode: mean)\n"
       ]
      },
      {
       "output_type": "stream",
       "stream": "stdout",
       "text": [
        "Applying baseline correction ... (mode: mean)\n"
       ]
      },
      {
       "output_type": "stream",
       "stream": "stdout",
       "text": [
        "Applying baseline correction ... (mode: mean)\n"
       ]
      },
      {
       "output_type": "stream",
       "stream": "stdout",
       "text": [
        "Applying baseline correction ... (mode: mean)\n"
       ]
      },
      {
       "output_type": "stream",
       "stream": "stdout",
       "text": [
        "Applying baseline correction ... (mode: mean)\n"
       ]
      },
      {
       "output_type": "stream",
       "stream": "stdout",
       "text": [
        "Applying baseline correction ... (mode: mean)\n"
       ]
      },
      {
       "output_type": "stream",
       "stream": "stdout",
       "text": [
        "Applying baseline correction ... (mode: mean)\n"
       ]
      },
      {
       "output_type": "stream",
       "stream": "stdout",
       "text": [
        "Applying baseline correction ... (mode: mean)\n"
       ]
      },
      {
       "output_type": "stream",
       "stream": "stdout",
       "text": [
        "Applying baseline correction ... (mode: mean)\n"
       ]
      },
      {
       "output_type": "stream",
       "stream": "stdout",
       "text": [
        "Applying baseline correction ... (mode: mean)\n"
       ]
      },
      {
       "output_type": "stream",
       "stream": "stdout",
       "text": [
        "Applying baseline correction ... (mode: mean)\n"
       ]
      },
      {
       "output_type": "stream",
       "stream": "stdout",
       "text": [
        "Applying baseline correction ... (mode: mean)\n"
       ]
      },
      {
       "output_type": "stream",
       "stream": "stdout",
       "text": [
        "Applying baseline correction ... (mode: mean)\n"
       ]
      },
      {
       "output_type": "stream",
       "stream": "stdout",
       "text": [
        "Applying baseline correction ... (mode: mean)\n"
       ]
      },
      {
       "output_type": "stream",
       "stream": "stdout",
       "text": [
        "Applying baseline correction ... (mode: mean)\n"
       ]
      },
      {
       "output_type": "stream",
       "stream": "stdout",
       "text": [
        "Applying baseline correction ... (mode: mean)\n"
       ]
      },
      {
       "output_type": "stream",
       "stream": "stdout",
       "text": [
        "Applying baseline correction ... (mode: mean)\n"
       ]
      },
      {
       "output_type": "stream",
       "stream": "stdout",
       "text": [
        "Applying baseline correction ... (mode: mean)\n"
       ]
      },
      {
       "output_type": "stream",
       "stream": "stdout",
       "text": [
        "Applying baseline correction ... (mode: mean)\n"
       ]
      },
      {
       "output_type": "stream",
       "stream": "stdout",
       "text": [
        "Applying baseline correction ... (mode: mean)\n"
       ]
      },
      {
       "output_type": "stream",
       "stream": "stdout",
       "text": [
        "Applying baseline correction ... (mode: mean)\n"
       ]
      },
      {
       "output_type": "stream",
       "stream": "stdout",
       "text": [
        "Applying baseline correction ... (mode: mean)\n"
       ]
      },
      {
       "output_type": "stream",
       "stream": "stdout",
       "text": [
        "Applying baseline correction ... (mode: mean)\n"
       ]
      },
      {
       "output_type": "stream",
       "stream": "stdout",
       "text": [
        "Applying baseline correction ... (mode: mean)\n"
       ]
      },
      {
       "output_type": "stream",
       "stream": "stdout",
       "text": [
        "Applying baseline correction ... (mode: mean)\n"
       ]
      },
      {
       "output_type": "stream",
       "stream": "stdout",
       "text": [
        "    Rejecting  epoch based on MAG : ['MEG0121', 'MEG1411', 'MEG1421', 'MEG1441']\n"
       ]
      },
      {
       "output_type": "stream",
       "stream": "stdout",
       "text": [
        "Applying baseline correction ... (mode: mean)\n"
       ]
      },
      {
       "output_type": "stream",
       "stream": "stdout",
       "text": [
        "    Rejecting  epoch based on MAG : ['MEG0121', 'MEG1411', 'MEG1421']\n"
       ]
      },
      {
       "output_type": "stream",
       "stream": "stdout",
       "text": [
        "Applying baseline correction ... (mode: mean)\n"
       ]
      },
      {
       "output_type": "stream",
       "stream": "stdout",
       "text": [
        "Applying baseline correction ... (mode: mean)\n"
       ]
      },
      {
       "output_type": "stream",
       "stream": "stdout",
       "text": [
        "Applying baseline correction ... (mode: mean)\n"
       ]
      },
      {
       "output_type": "stream",
       "stream": "stdout",
       "text": [
        "Applying baseline correction ... (mode: mean)\n"
       ]
      },
      {
       "output_type": "stream",
       "stream": "stdout",
       "text": [
        "Applying baseline correction ... (mode: mean)\n"
       ]
      },
      {
       "output_type": "stream",
       "stream": "stdout",
       "text": [
        "Applying baseline correction ... (mode: mean)\n"
       ]
      },
      {
       "output_type": "stream",
       "stream": "stdout",
       "text": [
        "    Rejecting  epoch based on MAG : ['MEG1411']\n"
       ]
      },
      {
       "output_type": "stream",
       "stream": "stdout",
       "text": [
        "Applying baseline correction ... (mode: mean)\n"
       ]
      },
      {
       "output_type": "stream",
       "stream": "stdout",
       "text": [
        "Applying baseline correction ... (mode: mean)\n"
       ]
      },
      {
       "output_type": "stream",
       "stream": "stdout",
       "text": [
        "Applying baseline correction ... (mode: mean)\n"
       ]
      },
      {
       "output_type": "stream",
       "stream": "stdout",
       "text": [
        "Applying baseline correction ... (mode: mean)\n"
       ]
      },
      {
       "output_type": "stream",
       "stream": "stdout",
       "text": [
        "    Rejecting  epoch based on MAG : ['MEG1411']\n"
       ]
      },
      {
       "output_type": "stream",
       "stream": "stdout",
       "text": [
        "Applying baseline correction ... (mode: mean)\n"
       ]
      },
      {
       "output_type": "stream",
       "stream": "stdout",
       "text": [
        "    Rejecting  epoch based on MAG : ['MEG1411']\n"
       ]
      },
      {
       "output_type": "stream",
       "stream": "stdout",
       "text": [
        "Applying baseline correction ... (mode: mean)\n"
       ]
      },
      {
       "output_type": "stream",
       "stream": "stdout",
       "text": [
        "Applying baseline correction ... (mode: mean)\n"
       ]
      },
      {
       "output_type": "stream",
       "stream": "stdout",
       "text": [
        "    Rejecting  epoch based on MAG : ['MEG0111', 'MEG0121', 'MEG0131', 'MEG1411', 'MEG1421', 'MEG1441']\n"
       ]
      },
      {
       "output_type": "stream",
       "stream": "stdout",
       "text": [
        "Applying baseline correction ... (mode: mean)\n"
       ]
      },
      {
       "output_type": "stream",
       "stream": "stdout",
       "text": [
        "Applying baseline correction ... (mode: mean)\n"
       ]
      },
      {
       "output_type": "stream",
       "stream": "stdout",
       "text": [
        "Applying baseline correction ... (mode: mean)\n"
       ]
      },
      {
       "output_type": "stream",
       "stream": "stdout",
       "text": [
        "Applying baseline correction ... (mode: mean)\n"
       ]
      },
      {
       "output_type": "stream",
       "stream": "stdout",
       "text": [
        "Applying baseline correction ... (mode: mean)\n"
       ]
      },
      {
       "output_type": "stream",
       "stream": "stdout",
       "text": [
        "Applying baseline correction ... (mode: mean)\n"
       ]
      },
      {
       "output_type": "stream",
       "stream": "stdout",
       "text": [
        "Applying baseline correction ... (mode: mean)\n"
       ]
      },
      {
       "output_type": "stream",
       "stream": "stdout",
       "text": [
        "Applying baseline correction ... (mode: mean)\n"
       ]
      },
      {
       "output_type": "stream",
       "stream": "stdout",
       "text": [
        "Applying baseline correction ... (mode: mean)\n"
       ]
      },
      {
       "output_type": "stream",
       "stream": "stdout",
       "text": [
        "Applying baseline correction ... (mode: mean)\n"
       ]
      },
      {
       "output_type": "stream",
       "stream": "stdout",
       "text": [
        "Applying baseline correction ... (mode: mean)\n"
       ]
      },
      {
       "output_type": "stream",
       "stream": "stdout",
       "text": [
        "Applying baseline correction ... (mode: mean)\n"
       ]
      },
      {
       "output_type": "stream",
       "stream": "stdout",
       "text": [
        "Applying baseline correction ... (mode: mean)\n"
       ]
      },
      {
       "output_type": "stream",
       "stream": "stdout",
       "text": [
        "Applying baseline correction ... (mode: mean)\n"
       ]
      },
      {
       "output_type": "stream",
       "stream": "stdout",
       "text": [
        "Applying baseline correction ... (mode: mean)\n"
       ]
      },
      {
       "output_type": "stream",
       "stream": "stdout",
       "text": [
        "Applying baseline correction ... (mode: mean)\n"
       ]
      },
      {
       "output_type": "stream",
       "stream": "stdout",
       "text": [
        "Applying baseline correction ... (mode: mean)\n"
       ]
      },
      {
       "output_type": "stream",
       "stream": "stdout",
       "text": [
        "Applying baseline correction ... (mode: mean)\n"
       ]
      },
      {
       "output_type": "stream",
       "stream": "stdout",
       "text": [
        "Applying baseline correction ... (mode: mean)\n"
       ]
      },
      {
       "output_type": "stream",
       "stream": "stdout",
       "text": [
        "Applying baseline correction ... (mode: mean)\n"
       ]
      },
      {
       "output_type": "stream",
       "stream": "stdout",
       "text": [
        "Applying baseline correction ... (mode: mean)\n"
       ]
      },
      {
       "output_type": "stream",
       "stream": "stdout",
       "text": [
        "Applying baseline correction ... (mode: mean)\n"
       ]
      },
      {
       "output_type": "stream",
       "stream": "stdout",
       "text": [
        "Applying baseline correction ... (mode: mean)\n"
       ]
      },
      {
       "output_type": "stream",
       "stream": "stdout",
       "text": [
        "Applying baseline correction ... (mode: mean)\n"
       ]
      },
      {
       "output_type": "stream",
       "stream": "stdout",
       "text": [
        "    Rejecting  epoch based on MAG : ['MEG0111', 'MEG0121', 'MEG0311', 'MEG1411', 'MEG1421', 'MEG1441']\n"
       ]
      },
      {
       "output_type": "stream",
       "stream": "stdout",
       "text": [
        "Applying baseline correction ... (mode: mean)\n"
       ]
      },
      {
       "output_type": "stream",
       "stream": "stdout",
       "text": [
        "Applying baseline correction ... (mode: mean)\n"
       ]
      },
      {
       "output_type": "stream",
       "stream": "stdout",
       "text": [
        "Applying baseline correction ... (mode: mean)\n"
       ]
      },
      {
       "output_type": "stream",
       "stream": "stdout",
       "text": [
        "Applying baseline correction ... (mode: mean)\n"
       ]
      },
      {
       "output_type": "stream",
       "stream": "stdout",
       "text": [
        "Applying baseline correction ... (mode: mean)\n"
       ]
      },
      {
       "output_type": "stream",
       "stream": "stdout",
       "text": [
        "Applying baseline correction ... (mode: mean)\n"
       ]
      },
      {
       "output_type": "stream",
       "stream": "stdout",
       "text": [
        "Applying baseline correction ... (mode: mean)\n"
       ]
      },
      {
       "output_type": "stream",
       "stream": "stdout",
       "text": [
        "Applying baseline correction ... (mode: mean)\n"
       ]
      },
      {
       "output_type": "stream",
       "stream": "stdout",
       "text": [
        "    Rejecting  epoch based on MAG : ['MEG0111', 'MEG0121', 'MEG1411', 'MEG1421', 'MEG1441']\n"
       ]
      },
      {
       "output_type": "stream",
       "stream": "stdout",
       "text": [
        "Applying baseline correction ... (mode: mean)\n"
       ]
      },
      {
       "output_type": "stream",
       "stream": "stdout",
       "text": [
        "Applying baseline correction ... (mode: mean)\n"
       ]
      },
      {
       "output_type": "stream",
       "stream": "stdout",
       "text": [
        "    Rejecting  epoch based on MAG : ['MEG0111', 'MEG0121', 'MEG0131', 'MEG0341', 'MEG1221', 'MEG1411', 'MEG1421', 'MEG1441']\n"
       ]
      },
      {
       "output_type": "stream",
       "stream": "stdout",
       "text": [
        "Applying baseline correction ... (mode: mean)\n"
       ]
      },
      {
       "output_type": "stream",
       "stream": "stdout",
       "text": [
        "Applying baseline correction ... (mode: mean)\n"
       ]
      },
      {
       "output_type": "stream",
       "stream": "stdout",
       "text": [
        "Applying baseline correction ... (mode: mean)\n"
       ]
      },
      {
       "output_type": "stream",
       "stream": "stdout",
       "text": [
        "Applying baseline correction ... (mode: mean)\n"
       ]
      },
      {
       "output_type": "stream",
       "stream": "stdout",
       "text": [
        "Applying baseline correction ... (mode: mean)\n"
       ]
      },
      {
       "output_type": "stream",
       "stream": "stdout",
       "text": [
        "Applying baseline correction ... (mode: mean)\n"
       ]
      },
      {
       "output_type": "stream",
       "stream": "stdout",
       "text": [
        "    Rejecting  epoch based on MAG : ['MEG0111', 'MEG0121', 'MEG1411', 'MEG1421', 'MEG1441']\n"
       ]
      },
      {
       "output_type": "stream",
       "stream": "stdout",
       "text": [
        "Applying baseline correction ... (mode: mean)\n"
       ]
      },
      {
       "output_type": "stream",
       "stream": "stdout",
       "text": [
        "Applying baseline correction ... (mode: mean)\n"
       ]
      },
      {
       "output_type": "stream",
       "stream": "stdout",
       "text": [
        "    Rejecting  epoch based on MAG : ['MEG1411', 'MEG1421']\n"
       ]
      },
      {
       "output_type": "stream",
       "stream": "stdout",
       "text": [
        "Applying baseline correction ... (mode: mean)\n"
       ]
      },
      {
       "output_type": "stream",
       "stream": "stdout",
       "text": [
        "Applying baseline correction ... (mode: mean)\n"
       ]
      },
      {
       "output_type": "stream",
       "stream": "stdout",
       "text": [
        "Applying baseline correction ... (mode: mean)\n"
       ]
      },
      {
       "output_type": "stream",
       "stream": "stdout",
       "text": [
        "Applying baseline correction ... (mode: mean)\n"
       ]
      },
      {
       "output_type": "stream",
       "stream": "stdout",
       "text": [
        "Applying baseline correction ... (mode: mean)\n"
       ]
      },
      {
       "output_type": "stream",
       "stream": "stdout",
       "text": [
        "Applying baseline correction ... (mode: mean)\n"
       ]
      },
      {
       "output_type": "stream",
       "stream": "stdout",
       "text": [
        "Applying baseline correction ... (mode: mean)\n"
       ]
      },
      {
       "output_type": "stream",
       "stream": "stdout",
       "text": [
        "    Rejecting  epoch based on MAG : ['MEG0111', 'MEG0121', 'MEG1411', 'MEG1421', 'MEG1441']\n"
       ]
      },
      {
       "output_type": "stream",
       "stream": "stdout",
       "text": [
        "Applying baseline correction ... (mode: mean)\n"
       ]
      },
      {
       "output_type": "stream",
       "stream": "stdout",
       "text": [
        "    Rejecting  epoch based on MAG : ['MEG0111', 'MEG0121', 'MEG1411', 'MEG1421']\n"
       ]
      },
      {
       "output_type": "stream",
       "stream": "stdout",
       "text": [
        "Applying baseline correction ... (mode: mean)\n"
       ]
      },
      {
       "output_type": "stream",
       "stream": "stdout",
       "text": [
        "Applying baseline correction ... (mode: mean)\n"
       ]
      },
      {
       "output_type": "stream",
       "stream": "stdout",
       "text": [
        "    Rejecting  epoch based on MAG : ['MEG0111', 'MEG0121', 'MEG0131', 'MEG0311', 'MEG0341', 'MEG1411', 'MEG1421', 'MEG1441']\n"
       ]
      },
      {
       "output_type": "stream",
       "stream": "stdout",
       "text": [
        "Applying baseline correction ... (mode: mean)\n"
       ]
      },
      {
       "output_type": "stream",
       "stream": "stdout",
       "text": [
        "Applying baseline correction ... (mode: mean)\n"
       ]
      },
      {
       "output_type": "stream",
       "stream": "stdout",
       "text": [
        "Applying baseline correction ... (mode: mean)\n"
       ]
      },
      {
       "output_type": "stream",
       "stream": "stdout",
       "text": [
        "Applying baseline correction ... (mode: mean)\n"
       ]
      },
      {
       "output_type": "stream",
       "stream": "stdout",
       "text": [
        "Applying baseline correction ... (mode: mean)\n"
       ]
      },
      {
       "output_type": "stream",
       "stream": "stdout",
       "text": [
        "Applying baseline correction ... (mode: mean)\n"
       ]
      },
      {
       "output_type": "stream",
       "stream": "stdout",
       "text": [
        "Applying baseline correction ... (mode: mean)\n"
       ]
      },
      {
       "output_type": "stream",
       "stream": "stdout",
       "text": [
        "    Rejecting  epoch based on MAG : ['MEG0111', 'MEG0121', 'MEG0131', 'MEG1221', 'MEG1411', 'MEG1421', 'MEG1431', 'MEG1441']\n"
       ]
      },
      {
       "output_type": "stream",
       "stream": "stdout",
       "text": [
        "Applying baseline correction ... (mode: mean)\n"
       ]
      },
      {
       "output_type": "stream",
       "stream": "stdout",
       "text": [
        "Applying baseline correction ... (mode: mean)\n"
       ]
      },
      {
       "output_type": "stream",
       "stream": "stdout",
       "text": [
        "Applying baseline correction ... (mode: mean)\n"
       ]
      },
      {
       "output_type": "stream",
       "stream": "stdout",
       "text": [
        "Applying baseline correction ... (mode: mean)\n"
       ]
      },
      {
       "output_type": "stream",
       "stream": "stdout",
       "text": [
        "    Rejecting  epoch based on MAG : ['MEG0121', 'MEG1411', 'MEG1421']\n"
       ]
      },
      {
       "output_type": "stream",
       "stream": "stdout",
       "text": [
        "Applying baseline correction ... (mode: mean)\n"
       ]
      },
      {
       "output_type": "stream",
       "stream": "stdout",
       "text": [
        "Applying baseline correction ... (mode: mean)\n"
       ]
      },
      {
       "output_type": "stream",
       "stream": "stdout",
       "text": [
        "Applying baseline correction ... (mode: mean)\n"
       ]
      },
      {
       "output_type": "stream",
       "stream": "stdout",
       "text": [
        "Applying baseline correction ... (mode: mean)\n"
       ]
      },
      {
       "output_type": "stream",
       "stream": "stdout",
       "text": [
        "    Rejecting  epoch based on MAG : ['MEG0111', 'MEG0121', 'MEG0131', 'MEG1411', 'MEG1421', 'MEG1431', 'MEG1441']\n"
       ]
      },
      {
       "output_type": "stream",
       "stream": "stdout",
       "text": [
        "Applying baseline correction ... (mode: mean)\n"
       ]
      },
      {
       "output_type": "stream",
       "stream": "stdout",
       "text": [
        "Applying baseline correction ... (mode: mean)\n"
       ]
      },
      {
       "output_type": "stream",
       "stream": "stdout",
       "text": [
        "Applying baseline correction ... (mode: mean)\n"
       ]
      },
      {
       "output_type": "stream",
       "stream": "stdout",
       "text": [
        "    Rejecting  epoch based on MAG : ['MEG1421']\n"
       ]
      },
      {
       "output_type": "stream",
       "stream": "stdout",
       "text": [
        "Applying baseline correction ... (mode: mean)\n"
       ]
      },
      {
       "output_type": "stream",
       "stream": "stdout",
       "text": [
        "Applying baseline correction ... (mode: mean)\n"
       ]
      },
      {
       "output_type": "stream",
       "stream": "stdout",
       "text": [
        "Applying baseline correction ... (mode: mean)\n"
       ]
      },
      {
       "output_type": "stream",
       "stream": "stdout",
       "text": [
        "Applying baseline correction ... (mode: mean)\n"
       ]
      },
      {
       "output_type": "stream",
       "stream": "stdout",
       "text": [
        "    Rejecting  epoch based on MAG : ['MEG0111', 'MEG0121', 'MEG0131', 'MEG0311', 'MEG0341', 'MEG1411', 'MEG1421', 'MEG1431', 'MEG1441']\n"
       ]
      },
      {
       "output_type": "stream",
       "stream": "stdout",
       "text": [
        "Applying baseline correction ... (mode: mean)\n"
       ]
      },
      {
       "output_type": "stream",
       "stream": "stdout",
       "text": [
        "    Rejecting  epoch based on MAG : ['MEG0111', 'MEG0121', 'MEG0311', 'MEG1411', 'MEG1421', 'MEG1431', 'MEG1441']\n"
       ]
      },
      {
       "output_type": "stream",
       "stream": "stdout",
       "text": [
        "Applying baseline correction ... (mode: mean)\n"
       ]
      },
      {
       "output_type": "stream",
       "stream": "stdout",
       "text": [
        "Applying baseline correction ... (mode: mean)\n"
       ]
      },
      {
       "output_type": "stream",
       "stream": "stdout",
       "text": [
        "Applying baseline correction ... (mode: mean)\n"
       ]
      },
      {
       "output_type": "stream",
       "stream": "stdout",
       "text": [
        "    Rejecting  epoch based on MAG : ['MEG0111', 'MEG0121', 'MEG0131', 'MEG1221', 'MEG1411', 'MEG1421', 'MEG1431', 'MEG1441']\n"
       ]
      },
      {
       "output_type": "stream",
       "stream": "stdout",
       "text": [
        "Applying baseline correction ... (mode: mean)\n"
       ]
      },
      {
       "output_type": "stream",
       "stream": "stdout",
       "text": [
        "Applying baseline correction ... (mode: mean)\n"
       ]
      },
      {
       "output_type": "stream",
       "stream": "stdout",
       "text": [
        "Applying baseline correction ... (mode: mean)\n"
       ]
      },
      {
       "output_type": "stream",
       "stream": "stdout",
       "text": [
        "Applying baseline correction ... (mode: mean)\n"
       ]
      },
      {
       "output_type": "stream",
       "stream": "stdout",
       "text": [
        "Applying baseline correction ... (mode: mean)\n"
       ]
      },
      {
       "output_type": "stream",
       "stream": "stdout",
       "text": [
        "Applying baseline correction ... (mode: mean)\n"
       ]
      },
      {
       "output_type": "stream",
       "stream": "stdout",
       "text": [
        "Applying baseline correction ... (mode: mean)\n"
       ]
      },
      {
       "output_type": "stream",
       "stream": "stdout",
       "text": [
        "Applying baseline correction ... (mode: mean)\n"
       ]
      },
      {
       "output_type": "stream",
       "stream": "stdout",
       "text": [
        "Applying baseline correction ... (mode: mean)\n"
       ]
      },
      {
       "output_type": "stream",
       "stream": "stdout",
       "text": [
        "Applying baseline correction ... (mode: mean)\n"
       ]
      },
      {
       "output_type": "stream",
       "stream": "stdout",
       "text": [
        "Applying baseline correction ... (mode: mean)\n"
       ]
      },
      {
       "output_type": "stream",
       "stream": "stdout",
       "text": [
        "Applying baseline correction ... (mode: mean)\n"
       ]
      },
      {
       "output_type": "stream",
       "stream": "stdout",
       "text": [
        "Applying baseline correction ... (mode: mean)\n"
       ]
      },
      {
       "output_type": "stream",
       "stream": "stdout",
       "text": [
        "Applying baseline correction ... (mode: mean)\n"
       ]
      },
      {
       "output_type": "stream",
       "stream": "stdout",
       "text": [
        "Applying baseline correction ... (mode: mean)\n"
       ]
      },
      {
       "output_type": "stream",
       "stream": "stdout",
       "text": [
        "Applying baseline correction ... (mode: mean)\n"
       ]
      },
      {
       "output_type": "stream",
       "stream": "stdout",
       "text": [
        "    Rejecting  epoch based on MAG : ['MEG0111', 'MEG0121', 'MEG0311', 'MEG1411', 'MEG1421', 'MEG1431', 'MEG1441']\n"
       ]
      },
      {
       "output_type": "stream",
       "stream": "stdout",
       "text": [
        "Applying baseline correction ... (mode: mean)\n"
       ]
      },
      {
       "output_type": "stream",
       "stream": "stdout",
       "text": [
        "    Rejecting  epoch based on MAG : ['MEG0111', 'MEG0121', 'MEG0131', 'MEG0141', 'MEG0211', 'MEG0311', 'MEG0341', 'MEG1211', 'MEG1221', 'MEG1321', 'MEG1411', 'MEG1421', 'MEG1431', 'MEG1441', 'MEG2611', 'MEG2621']\n"
       ]
      },
      {
       "output_type": "stream",
       "stream": "stdout",
       "text": [
        "Applying baseline correction ... (mode: mean)\n"
       ]
      },
      {
       "output_type": "stream",
       "stream": "stdout",
       "text": [
        "Applying baseline correction ... (mode: mean)\n"
       ]
      },
      {
       "output_type": "stream",
       "stream": "stdout",
       "text": [
        "Applying baseline correction ... (mode: mean)\n"
       ]
      },
      {
       "output_type": "stream",
       "stream": "stdout",
       "text": [
        "Applying baseline correction ... (mode: mean)\n"
       ]
      },
      {
       "output_type": "stream",
       "stream": "stdout",
       "text": [
        "Applying baseline correction ... (mode: mean)\n"
       ]
      },
      {
       "output_type": "stream",
       "stream": "stdout",
       "text": [
        "Applying baseline correction ... (mode: mean)\n"
       ]
      },
      {
       "output_type": "stream",
       "stream": "stdout",
       "text": [
        "Applying baseline correction ... (mode: mean)\n"
       ]
      },
      {
       "output_type": "stream",
       "stream": "stdout",
       "text": [
        "Applying baseline correction ... (mode: mean)\n"
       ]
      },
      {
       "output_type": "stream",
       "stream": "stdout",
       "text": [
        "Applying baseline correction ... (mode: mean)\n"
       ]
      },
      {
       "output_type": "stream",
       "stream": "stdout",
       "text": [
        "Applying baseline correction ... (mode: mean)\n"
       ]
      },
      {
       "output_type": "stream",
       "stream": "stdout",
       "text": [
        "Applying baseline correction ... (mode: mean)\n"
       ]
      },
      {
       "output_type": "stream",
       "stream": "stdout",
       "text": [
        "Applying baseline correction ... (mode: mean)\n"
       ]
      },
      {
       "output_type": "stream",
       "stream": "stdout",
       "text": [
        "Applying baseline correction ... (mode: mean)\n"
       ]
      },
      {
       "output_type": "stream",
       "stream": "stdout",
       "text": [
        "Applying baseline correction ... (mode: mean)\n"
       ]
      },
      {
       "output_type": "stream",
       "stream": "stdout",
       "text": [
        "Applying baseline correction ... (mode: mean)\n"
       ]
      },
      {
       "output_type": "stream",
       "stream": "stdout",
       "text": [
        "Applying baseline correction ... (mode: mean)\n"
       ]
      },
      {
       "output_type": "stream",
       "stream": "stdout",
       "text": [
        "Applying baseline correction ... (mode: mean)\n"
       ]
      },
      {
       "output_type": "stream",
       "stream": "stdout",
       "text": [
        "Applying baseline correction ... (mode: mean)\n"
       ]
      },
      {
       "output_type": "stream",
       "stream": "stdout",
       "text": [
        "Applying baseline correction ... (mode: mean)\n"
       ]
      },
      {
       "output_type": "stream",
       "stream": "stdout",
       "text": [
        "Applying baseline correction ... (mode: mean)\n"
       ]
      },
      {
       "output_type": "stream",
       "stream": "stdout",
       "text": [
        "Applying baseline correction ... (mode: mean)\n"
       ]
      },
      {
       "output_type": "stream",
       "stream": "stdout",
       "text": [
        "Applying baseline correction ... (mode: mean)\n"
       ]
      },
      {
       "output_type": "stream",
       "stream": "stdout",
       "text": [
        "Applying baseline correction ... (mode: mean)\n"
       ]
      },
      {
       "output_type": "stream",
       "stream": "stdout",
       "text": [
        "Applying baseline correction ... (mode: mean)\n"
       ]
      },
      {
       "output_type": "stream",
       "stream": "stdout",
       "text": [
        "Applying baseline correction ... (mode: mean)\n"
       ]
      },
      {
       "output_type": "stream",
       "stream": "stdout",
       "text": [
        "Applying baseline correction ... (mode: mean)\n"
       ]
      },
      {
       "output_type": "stream",
       "stream": "stdout",
       "text": [
        "Applying baseline correction ... (mode: mean)\n"
       ]
      },
      {
       "output_type": "stream",
       "stream": "stdout",
       "text": [
        "Applying baseline correction ... (mode: mean)\n"
       ]
      },
      {
       "output_type": "stream",
       "stream": "stdout",
       "text": [
        "Applying baseline correction ... (mode: mean)\n"
       ]
      },
      {
       "output_type": "stream",
       "stream": "stdout",
       "text": [
        "Applying baseline correction ... (mode: mean)\n"
       ]
      },
      {
       "output_type": "stream",
       "stream": "stdout",
       "text": [
        "Applying baseline correction ... (mode: mean)\n"
       ]
      },
      {
       "output_type": "stream",
       "stream": "stdout",
       "text": [
        "Applying baseline correction ... (mode: mean)\n"
       ]
      },
      {
       "output_type": "stream",
       "stream": "stdout",
       "text": [
        "Applying baseline correction ... (mode: mean)\n"
       ]
      },
      {
       "output_type": "stream",
       "stream": "stdout",
       "text": [
        "Applying baseline correction ... (mode: mean)\n"
       ]
      },
      {
       "output_type": "stream",
       "stream": "stdout",
       "text": [
        "Applying baseline correction ... (mode: mean)\n"
       ]
      },
      {
       "output_type": "stream",
       "stream": "stdout",
       "text": [
        "Applying baseline correction ... (mode: mean)\n"
       ]
      },
      {
       "output_type": "stream",
       "stream": "stdout",
       "text": [
        "Applying baseline correction ... (mode: mean)\n"
       ]
      },
      {
       "output_type": "stream",
       "stream": "stdout",
       "text": [
        "Applying baseline correction ... (mode: mean)\n"
       ]
      },
      {
       "output_type": "stream",
       "stream": "stdout",
       "text": [
        "Applying baseline correction ... (mode: mean)\n"
       ]
      },
      {
       "output_type": "stream",
       "stream": "stdout",
       "text": [
        "Applying baseline correction ... (mode: mean)\n"
       ]
      },
      {
       "output_type": "stream",
       "stream": "stdout",
       "text": [
        "Applying baseline correction ... (mode: mean)\n"
       ]
      },
      {
       "output_type": "stream",
       "stream": "stdout",
       "text": [
        "    Rejecting  epoch based on MAG : ['MEG0111', 'MEG0121', 'MEG1411', 'MEG1421', 'MEG1441']\n"
       ]
      },
      {
       "output_type": "stream",
       "stream": "stdout",
       "text": [
        "Applying baseline correction ... (mode: mean)\n"
       ]
      },
      {
       "output_type": "stream",
       "stream": "stdout",
       "text": [
        "    Rejecting  epoch based on MAG : ['MEG0111', 'MEG0121', 'MEG1411', 'MEG1421', 'MEG1441']\n"
       ]
      },
      {
       "output_type": "stream",
       "stream": "stdout",
       "text": [
        "Applying baseline correction ... (mode: mean)\n"
       ]
      },
      {
       "output_type": "stream",
       "stream": "stdout",
       "text": [
        "    Rejecting  epoch based on MAG : ['MEG0121', 'MEG1411', 'MEG1421']\n"
       ]
      },
      {
       "output_type": "stream",
       "stream": "stdout",
       "text": [
        "Applying baseline correction ... (mode: mean)\n"
       ]
      },
      {
       "output_type": "stream",
       "stream": "stdout",
       "text": [
        "Applying baseline correction ... (mode: mean)\n"
       ]
      },
      {
       "output_type": "stream",
       "stream": "stdout",
       "text": [
        "    Rejecting  epoch based on MAG : ['MEG0111', 'MEG0121', 'MEG1411', 'MEG1421', 'MEG1441']\n"
       ]
      },
      {
       "output_type": "stream",
       "stream": "stdout",
       "text": [
        "Applying baseline correction ... (mode: mean)\n"
       ]
      },
      {
       "output_type": "stream",
       "stream": "stdout",
       "text": [
        "Applying baseline correction ... (mode: mean)\n"
       ]
      },
      {
       "output_type": "stream",
       "stream": "stdout",
       "text": [
        "    Rejecting  epoch based on MAG : ['MEG0121', 'MEG1411', 'MEG1421']\n"
       ]
      },
      {
       "output_type": "stream",
       "stream": "stdout",
       "text": [
        "Applying baseline correction ... (mode: mean)\n"
       ]
      },
      {
       "output_type": "stream",
       "stream": "stdout",
       "text": [
        "Applying baseline correction ... (mode: mean)\n"
       ]
      },
      {
       "output_type": "stream",
       "stream": "stdout",
       "text": [
        "Applying baseline correction ... (mode: mean)\n"
       ]
      },
      {
       "output_type": "stream",
       "stream": "stdout",
       "text": [
        "Applying baseline correction ... (mode: mean)\n"
       ]
      },
      {
       "output_type": "stream",
       "stream": "stdout",
       "text": [
        "Applying baseline correction ... (mode: mean)\n"
       ]
      },
      {
       "output_type": "stream",
       "stream": "stdout",
       "text": [
        "Applying baseline correction ... (mode: mean)\n"
       ]
      },
      {
       "output_type": "stream",
       "stream": "stdout",
       "text": [
        "Applying baseline correction ... (mode: mean)\n"
       ]
      },
      {
       "output_type": "stream",
       "stream": "stdout",
       "text": [
        "Applying baseline correction ... (mode: mean)\n"
       ]
      },
      {
       "output_type": "stream",
       "stream": "stdout",
       "text": [
        "Applying baseline correction ... (mode: mean)\n"
       ]
      },
      {
       "output_type": "stream",
       "stream": "stdout",
       "text": [
        "Applying baseline correction ... (mode: mean)\n"
       ]
      },
      {
       "output_type": "stream",
       "stream": "stdout",
       "text": [
        "Applying baseline correction ... (mode: mean)\n"
       ]
      },
      {
       "output_type": "stream",
       "stream": "stdout",
       "text": [
        "Applying baseline correction ... (mode: mean)\n"
       ]
      },
      {
       "output_type": "stream",
       "stream": "stdout",
       "text": [
        "Applying baseline correction ... (mode: mean)\n"
       ]
      },
      {
       "output_type": "stream",
       "stream": "stdout",
       "text": [
        "Applying baseline correction ... (mode: mean)\n"
       ]
      },
      {
       "output_type": "stream",
       "stream": "stdout",
       "text": [
        "Applying baseline correction ... (mode: mean)\n"
       ]
      },
      {
       "output_type": "stream",
       "stream": "stdout",
       "text": [
        "Applying baseline correction ... (mode: mean)\n"
       ]
      },
      {
       "output_type": "stream",
       "stream": "stdout",
       "text": [
        "Applying baseline correction ... (mode: mean)\n"
       ]
      },
      {
       "output_type": "stream",
       "stream": "stdout",
       "text": [
        "Applying baseline correction ... (mode: mean)\n"
       ]
      },
      {
       "output_type": "stream",
       "stream": "stdout",
       "text": [
        "Applying baseline correction ... (mode: mean)\n"
       ]
      },
      {
       "output_type": "stream",
       "stream": "stdout",
       "text": [
        "Applying baseline correction ... (mode: mean)\n"
       ]
      },
      {
       "output_type": "stream",
       "stream": "stdout",
       "text": [
        "Applying baseline correction ... (mode: mean)\n"
       ]
      },
      {
       "output_type": "stream",
       "stream": "stdout",
       "text": [
        "Applying baseline correction ... (mode: mean)\n"
       ]
      },
      {
       "output_type": "stream",
       "stream": "stdout",
       "text": [
        "Applying baseline correction ... (mode: mean)\n"
       ]
      },
      {
       "output_type": "stream",
       "stream": "stdout",
       "text": [
        "Applying baseline correction ... (mode: mean)\n"
       ]
      },
      {
       "output_type": "stream",
       "stream": "stdout",
       "text": [
        "    Rejecting  epoch based on MAG : ['MEG1411', 'MEG1421']\n"
       ]
      },
      {
       "output_type": "stream",
       "stream": "stdout",
       "text": [
        "Applying baseline correction ... (mode: mean)\n"
       ]
      },
      {
       "output_type": "stream",
       "stream": "stdout",
       "text": [
        "Applying baseline correction ... (mode: mean)\n"
       ]
      },
      {
       "output_type": "stream",
       "stream": "stdout",
       "text": [
        "Applying baseline correction ... (mode: mean)\n"
       ]
      },
      {
       "output_type": "stream",
       "stream": "stdout",
       "text": [
        "Applying baseline correction ... (mode: mean)\n"
       ]
      },
      {
       "output_type": "stream",
       "stream": "stdout",
       "text": [
        "Applying baseline correction ... (mode: mean)\n"
       ]
      },
      {
       "output_type": "stream",
       "stream": "stdout",
       "text": [
        "Applying baseline correction ... (mode: mean)\n"
       ]
      },
      {
       "output_type": "stream",
       "stream": "stdout",
       "text": [
        "Applying baseline correction ... (mode: mean)\n"
       ]
      },
      {
       "output_type": "stream",
       "stream": "stdout",
       "text": [
        "Applying baseline correction ... (mode: mean)\n"
       ]
      },
      {
       "output_type": "stream",
       "stream": "stdout",
       "text": [
        "Applying baseline correction ... (mode: mean)\n"
       ]
      },
      {
       "output_type": "stream",
       "stream": "stdout",
       "text": [
        "Applying baseline correction ... (mode: mean)\n"
       ]
      },
      {
       "output_type": "stream",
       "stream": "stdout",
       "text": [
        "Applying baseline correction ... (mode: mean)\n"
       ]
      },
      {
       "output_type": "stream",
       "stream": "stdout",
       "text": [
        "Applying baseline correction ... (mode: mean)\n"
       ]
      },
      {
       "output_type": "stream",
       "stream": "stdout",
       "text": [
        "Applying baseline correction ... (mode: mean)\n"
       ]
      },
      {
       "output_type": "stream",
       "stream": "stdout",
       "text": [
        "Applying baseline correction ... (mode: mean)\n"
       ]
      },
      {
       "output_type": "stream",
       "stream": "stdout",
       "text": [
        "Applying baseline correction ... (mode: mean)\n"
       ]
      },
      {
       "output_type": "stream",
       "stream": "stdout",
       "text": [
        "Applying baseline correction ... (mode: mean)\n"
       ]
      },
      {
       "output_type": "stream",
       "stream": "stdout",
       "text": [
        "Applying baseline correction ... (mode: mean)\n"
       ]
      },
      {
       "output_type": "stream",
       "stream": "stdout",
       "text": [
        "Applying baseline correction ... (mode: mean)\n"
       ]
      },
      {
       "output_type": "stream",
       "stream": "stdout",
       "text": [
        "Applying baseline correction ... (mode: mean)\n"
       ]
      },
      {
       "output_type": "stream",
       "stream": "stdout",
       "text": [
        "Applying baseline correction ... (mode: mean)\n"
       ]
      },
      {
       "output_type": "stream",
       "stream": "stdout",
       "text": [
        "Applying baseline correction ... (mode: mean)\n"
       ]
      },
      {
       "output_type": "stream",
       "stream": "stdout",
       "text": [
        "Applying baseline correction ... (mode: mean)\n"
       ]
      },
      {
       "output_type": "stream",
       "stream": "stdout",
       "text": [
        "Applying baseline correction ... (mode: mean)\n"
       ]
      },
      {
       "output_type": "stream",
       "stream": "stdout",
       "text": [
        "Applying baseline correction ... (mode: mean)\n"
       ]
      },
      {
       "output_type": "stream",
       "stream": "stdout",
       "text": [
        "Applying baseline correction ... (mode: mean)\n"
       ]
      },
      {
       "output_type": "stream",
       "stream": "stdout",
       "text": [
        "Applying baseline correction ... (mode: mean)\n"
       ]
      },
      {
       "output_type": "stream",
       "stream": "stdout",
       "text": [
        "    Rejecting  epoch based on MAG : ['MEG1421']\n"
       ]
      },
      {
       "output_type": "stream",
       "stream": "stdout",
       "text": [
        "Applying baseline correction ... (mode: mean)\n"
       ]
      },
      {
       "output_type": "stream",
       "stream": "stdout",
       "text": [
        "Applying baseline correction ... (mode: mean)\n"
       ]
      },
      {
       "output_type": "stream",
       "stream": "stdout",
       "text": [
        "Applying baseline correction ... (mode: mean)\n"
       ]
      },
      {
       "output_type": "stream",
       "stream": "stdout",
       "text": [
        "Applying baseline correction ... (mode: mean)\n"
       ]
      },
      {
       "output_type": "stream",
       "stream": "stdout",
       "text": [
        "Applying baseline correction ... (mode: mean)\n"
       ]
      },
      {
       "output_type": "stream",
       "stream": "stdout",
       "text": [
        "Applying baseline correction ... (mode: mean)\n"
       ]
      },
      {
       "output_type": "stream",
       "stream": "stdout",
       "text": [
        "Applying baseline correction ... (mode: mean)\n"
       ]
      },
      {
       "output_type": "stream",
       "stream": "stdout",
       "text": [
        "Applying baseline correction ... (mode: mean)\n"
       ]
      },
      {
       "output_type": "stream",
       "stream": "stdout",
       "text": [
        "Applying baseline correction ... (mode: mean)\n"
       ]
      },
      {
       "output_type": "stream",
       "stream": "stdout",
       "text": [
        "Applying baseline correction ... (mode: mean)\n"
       ]
      },
      {
       "output_type": "stream",
       "stream": "stdout",
       "text": [
        "Applying baseline correction ... (mode: mean)\n"
       ]
      },
      {
       "output_type": "stream",
       "stream": "stdout",
       "text": [
        "Applying baseline correction ... (mode: mean)\n"
       ]
      },
      {
       "output_type": "stream",
       "stream": "stdout",
       "text": [
        "Applying baseline correction ... (mode: mean)\n"
       ]
      },
      {
       "output_type": "stream",
       "stream": "stdout",
       "text": [
        "Applying baseline correction ... (mode: mean)\n"
       ]
      },
      {
       "output_type": "stream",
       "stream": "stdout",
       "text": [
        "Applying baseline correction ... (mode: mean)\n"
       ]
      },
      {
       "output_type": "stream",
       "stream": "stdout",
       "text": [
        "Applying baseline correction ... (mode: mean)\n"
       ]
      },
      {
       "output_type": "stream",
       "stream": "stdout",
       "text": [
        "Applying baseline correction ... (mode: mean)\n"
       ]
      },
      {
       "output_type": "stream",
       "stream": "stdout",
       "text": [
        "Applying baseline correction ... (mode: mean)\n"
       ]
      },
      {
       "output_type": "stream",
       "stream": "stdout",
       "text": [
        "Applying baseline correction ... (mode: mean)\n"
       ]
      },
      {
       "output_type": "stream",
       "stream": "stdout",
       "text": [
        "Applying baseline correction ... (mode: mean)\n"
       ]
      },
      {
       "output_type": "stream",
       "stream": "stdout",
       "text": [
        "Applying baseline correction ... (mode: mean)\n"
       ]
      },
      {
       "output_type": "stream",
       "stream": "stdout",
       "text": [
        "Applying baseline correction ... (mode: mean)\n"
       ]
      },
      {
       "output_type": "stream",
       "stream": "stdout",
       "text": [
        "Applying baseline correction ... (mode: mean)\n"
       ]
      },
      {
       "output_type": "stream",
       "stream": "stdout",
       "text": [
        "Applying baseline correction ... (mode: mean)\n"
       ]
      },
      {
       "output_type": "stream",
       "stream": "stdout",
       "text": [
        "    Rejecting  epoch based on MAG : ['MEG1411', 'MEG1421']\n"
       ]
      },
      {
       "output_type": "stream",
       "stream": "stdout",
       "text": [
        "Applying baseline correction ... (mode: mean)\n"
       ]
      },
      {
       "output_type": "stream",
       "stream": "stdout",
       "text": [
        "Applying baseline correction ... (mode: mean)\n"
       ]
      },
      {
       "output_type": "stream",
       "stream": "stdout",
       "text": [
        "    Rejecting  epoch based on MAG : ['MEG0111', 'MEG0121', 'MEG1411', 'MEG1421']\n"
       ]
      },
      {
       "output_type": "stream",
       "stream": "stdout",
       "text": [
        "Applying baseline correction ... (mode: mean)\n"
       ]
      },
      {
       "output_type": "stream",
       "stream": "stdout",
       "text": [
        "    Rejecting  epoch based on MAG : ['MEG0121', 'MEG1411', 'MEG1421']\n"
       ]
      },
      {
       "output_type": "stream",
       "stream": "stdout",
       "text": [
        "Applying baseline correction ... (mode: mean)\n"
       ]
      },
      {
       "output_type": "stream",
       "stream": "stdout",
       "text": [
        "    Rejecting  epoch based on MAG : ['MEG0111', 'MEG0121', 'MEG1411', 'MEG1421', 'MEG1441']\n"
       ]
      },
      {
       "output_type": "stream",
       "stream": "stdout",
       "text": [
        "Applying baseline correction ... (mode: mean)\n"
       ]
      },
      {
       "output_type": "stream",
       "stream": "stdout",
       "text": [
        "Applying baseline correction ... (mode: mean)\n"
       ]
      },
      {
       "output_type": "stream",
       "stream": "stdout",
       "text": [
        "Applying baseline correction ... (mode: mean)\n"
       ]
      },
      {
       "output_type": "stream",
       "stream": "stdout",
       "text": [
        "Applying baseline correction ... (mode: mean)\n"
       ]
      },
      {
       "output_type": "stream",
       "stream": "stdout",
       "text": [
        "Applying baseline correction ... (mode: mean)\n"
       ]
      },
      {
       "output_type": "stream",
       "stream": "stdout",
       "text": [
        "Applying baseline correction ... (mode: mean)\n"
       ]
      },
      {
       "output_type": "stream",
       "stream": "stdout",
       "text": [
        "Applying baseline correction ... (mode: mean)\n"
       ]
      },
      {
       "output_type": "stream",
       "stream": "stdout",
       "text": [
        "Applying baseline correction ... (mode: mean)\n"
       ]
      },
      {
       "output_type": "stream",
       "stream": "stdout",
       "text": [
        "Applying baseline correction ... (mode: mean)\n"
       ]
      },
      {
       "output_type": "stream",
       "stream": "stdout",
       "text": [
        "Applying baseline correction ... (mode: mean)\n"
       ]
      },
      {
       "output_type": "stream",
       "stream": "stdout",
       "text": [
        "Applying baseline correction ... (mode: mean)\n"
       ]
      },
      {
       "output_type": "stream",
       "stream": "stdout",
       "text": [
        "Applying baseline correction ... (mode: mean)\n"
       ]
      },
      {
       "output_type": "stream",
       "stream": "stdout",
       "text": [
        "Applying baseline correction ... (mode: mean)\n"
       ]
      },
      {
       "output_type": "stream",
       "stream": "stdout",
       "text": [
        "Applying baseline correction ... (mode: mean)\n"
       ]
      },
      {
       "output_type": "stream",
       "stream": "stdout",
       "text": [
        "Applying baseline correction ... (mode: mean)\n"
       ]
      },
      {
       "output_type": "stream",
       "stream": "stdout",
       "text": [
        "Applying baseline correction ... (mode: mean)\n"
       ]
      },
      {
       "output_type": "stream",
       "stream": "stdout",
       "text": [
        "Applying baseline correction ... (mode: mean)\n"
       ]
      },
      {
       "output_type": "stream",
       "stream": "stdout",
       "text": [
        "Applying baseline correction ... (mode: mean)\n"
       ]
      },
      {
       "output_type": "stream",
       "stream": "stdout",
       "text": [
        "Applying baseline correction ... (mode: mean)\n"
       ]
      },
      {
       "output_type": "stream",
       "stream": "stdout",
       "text": [
        "Applying baseline correction ... (mode: mean)\n"
       ]
      },
      {
       "output_type": "stream",
       "stream": "stdout",
       "text": [
        "Applying baseline correction ... (mode: mean)\n"
       ]
      },
      {
       "output_type": "stream",
       "stream": "stdout",
       "text": [
        "    Rejecting  epoch based on MAG : ['MEG0111', 'MEG0121', 'MEG1411', 'MEG1421', 'MEG1431', 'MEG1441']\n"
       ]
      },
      {
       "output_type": "stream",
       "stream": "stdout",
       "text": [
        "Applying baseline correction ... (mode: mean)\n"
       ]
      },
      {
       "output_type": "stream",
       "stream": "stdout",
       "text": [
        "    Rejecting  epoch based on MAG : ['MEG1411']\n"
       ]
      },
      {
       "output_type": "stream",
       "stream": "stdout",
       "text": [
        "Applying baseline correction ... (mode: mean)\n"
       ]
      },
      {
       "output_type": "stream",
       "stream": "stdout",
       "text": [
        "36 bad epochs dropped\n"
       ]
      }
     ],
     "prompt_number": 8
    },
    {
     "cell_type": "code",
     "collapsed": false,
     "input": [
      "mne.viz.plot_drop_log(epochs.drop_log)"
     ],
     "language": "python",
     "metadata": {},
     "outputs": [
      {
       "metadata": {},
       "output_type": "display_data",
       "png": "[encoded data removed]",
       "text": [
        "<matplotlib.figure.Figure at 0x5d31110>"
       ]
      },
      {
       "metadata": {},
       "output_type": "pyout",
       "prompt_number": 9,
       "text": [
        "11.25"
       ]
      }
     ],
     "prompt_number": 9
    },
    {
     "cell_type": "heading",
     "level": 2,
     "metadata": {},
     "source": [
      "ICA"
     ]
    },
    {
     "cell_type": "code",
     "collapsed": false,
     "input": [
      "ica = ICA(n_components=0.90, n_pca_components=64,\n",
      "          max_pca_components=100,\n",
      "          noise_cov=None)\n",
      "\n",
      "ica.decompose_epochs(epochs)\n",
      "\n",
      "eog_scores_1_normal = ica.find_sources_epochs(epochs, target=\"EOG001\",\n",
      "                                              score_func=\"pearsonr\")\n",
      "eog_scores_2_normal = ica.find_sources_epochs(epochs, target=\"EOG003\",\n",
      "                                              score_func=\"pearsonr\")\n",
      "\n",
      "# get maximum correlation index for EOG\n",
      "eog_source_idx_1_normal = np.abs(eog_scores_1_normal).argmax()\n",
      "eog_source_idx_2_normal = np.abs(eog_scores_2_normal).argmax()"
     ],
     "language": "python",
     "metadata": {},
     "outputs": []
    },
    {
     "cell_type": "code",
     "collapsed": false,
     "input": [
      "source_idx = range(0, ica.n_components_)\n",
      "ica.plot_topomap(source_idx, ch_type=\"mag\")"
     ],
     "language": "python",
     "metadata": {},
     "outputs": []
    },
    {
     "cell_type": "code",
     "collapsed": false,
     "input": [
      "# select ICA sources and reconstruct MEG signals, compute clean ERFs\n",
      "# Add detected artefact sources to exclusion list\n",
      "# We now add the eog artefacts to the ica.exclusion list\n",
      "if eog_source_idx_1_normal == eog_source_idx_2_normal:\n",
      "    ica.exclude += [eog_source_idx_1_normal]\n",
      "elif eog_source_idx_1_normal != eog_source_idx_2_normal:\n",
      "    ica.exclude += [eog_source_idx_1_normal, eog_source_idx_2_normal]\n",
      "\n",
      "# remove ECG\n",
      "ecg_ch_name = 'ECG002'\n",
      "ecg_scores = ica.find_sources_epochs(epochs, target=ecg_ch_name,\n",
      "                                     score_func='pearsonr')\n",
      "\n",
      "# get the source most correlated with the ECG.\n",
      "ecg_source_idx = np.argsort(np.abs(ecg_scores))[-1]\n",
      "ica.exclude += [ecg_source_idx]\n",
      "\n",
      "\n",
      "\n",
      "# Restore sensor space data\n",
      "# plot spatial sensitivities of a few ICA components\n",
      "# title = 'Spatial patterns of ICA components (Magnetometers)'\n",
      "# source_idx = range(0, ica.n_components_)\n",
      "# ica.plot_topomap(source_idx, ch_type='mag')\n",
      "# plt.suptitle(title, fontsize=12)\n",
      "\n",
      "epochs_ica = ica.pick_sources_epochs(epochs)\n",
      "# epochs_ica.save(\"sef_bilat-tsss-mc-autobad-epochs.fif\")"
     ],
     "language": "python",
     "metadata": {},
     "outputs": [],
     "prompt_number": 11
    },
    {
     "cell_type": "code",
     "collapsed": false,
     "input": [
      "print epochs_ica"
     ],
     "language": "python",
     "metadata": {},
     "outputs": [
      {
       "output_type": "stream",
       "stream": "stdout",
       "text": [
        "<Epochs  |  n_events : 284 (all good), tmin : -0.5 (s), tmax : 0.5 (s), baseline : (None, -0.2),\n",
        " 'Left': 143, 'Right': 141>\n"
       ]
      }
     ],
     "prompt_number": 15
    },
    {
     "cell_type": "heading",
     "level": 2,
     "metadata": {},
     "source": [
      "Evoked data"
     ]
    },
    {
     "cell_type": "code",
     "collapsed": false,
     "input": [
      "evoked_left = epochs_ica[\"Left\"].average()\n",
      "evoked_right = epochs_ica[\"Right\"].average()"
     ],
     "language": "python",
     "metadata": {},
     "outputs": [],
     "prompt_number": 16
    },
    {
     "cell_type": "code",
     "collapsed": false,
     "input": [
      "evoked_left.plot()\n",
      "evoked_right.plot()"
     ],
     "language": "python",
     "metadata": {},
     "outputs": [
      {
       "metadata": {},
       "output_type": "display_data",
       "png": "[encoded data removed]",
       "text": [
        "<matplotlib.figure.Figure at 0x42faad0>"
       ]
      },
      {
       "metadata": {},
       "output_type": "display_data",
       "png": "[encoded data removed]",
       "text": [
        "<matplotlib.figure.Figure at 0x42fa210>"
       ]
      },
      {
       "metadata": {},
       "output_type": "pyout",
       "png": "[encoded data removed]",
       "prompt_number": 17,
       "text": [
        "<matplotlib.figure.Figure at 0x42fa210>"
       ]
      }
     ],
     "prompt_number": 17
    },
    {
     "cell_type": "heading",
     "level": 2,
     "metadata": {},
     "source": [
      "Estimate noise covariance"
     ]
    },
    {
     "cell_type": "code",
     "collapsed": false,
     "input": [
      "cov = mne.compute_covariance(epochs, tmin=None, tmax=-0.2)\n",
      "mne.viz.plot_cov(cov, raw.info, colorbar=True, proj=True)\n",
      "\n",
      "# save noise cov\n",
      "# cov.save(\"sef_bilat-tsss-mc-autobad.fif\")"
     ],
     "language": "python",
     "metadata": {},
     "outputs": [
      {
       "output_type": "stream",
       "stream": "stdout",
       "text": [
        "Number of samples used : 85484\n"
       ]
      },
      {
       "output_type": "stream",
       "stream": "stdout",
       "text": [
        "[done]\n"
       ]
      },
      {
       "output_type": "stream",
       "stream": "stdout",
       "text": [
        "    The projection vectors do not apply to these channels.\n"
       ]
      },
      {
       "metadata": {},
       "output_type": "display_data",
       "png": "[encoded data removed]",
       "text": [
        "<matplotlib.figure.Figure at 0xbe03d10>"
       ]
      },
      {
       "metadata": {},
       "output_type": "display_data",
       "png": "[encoded data removed]",
       "text": [
        "<matplotlib.figure.Figure at 0x884f3d0>"
       ]
      },
      {
       "metadata": {},
       "output_type": "pyout",
       "prompt_number": 18,
       "text": [
        "(<matplotlib.figure.Figure at 0xbe03d10>,\n",
        " <matplotlib.figure.Figure at 0x884f3d0>)"
       ]
      }
     ],
     "prompt_number": 18
    },
    {
     "cell_type": "code",
     "collapsed": false,
     "input": [
      "ls"
     ],
     "language": "python",
     "metadata": {},
     "outputs": [
      {
       "output_type": "stream",
       "stream": "stdout",
       "text": [
        "\u001b[0m\u001b[01;32m#_assh_bisis_b_avolatile_amje_atraining__data_amne__forward.sh#\u001b[0m*  \u001b[01;32mmake_BEM.sh~\u001b[0m*              sef_bilat-headpos.log\r\n",
        "create_flash_bem.sh                                               \u001b[01;32mmaxfilter_empty_room.sh\u001b[0m*   sef_bilat-headpos_ver_4.log\r\n",
        "create_flash_bem.sh~                                              \u001b[01;32mmaxfilter_empty_room.sh~\u001b[0m*  \u001b[01;32msef_bilat-raw.fif\u001b[0m*\r\n",
        "\u001b[01;32mempty_room-raw.fif\u001b[0m*                                               maxfilter_wrapper.py       sef_bilat-tsss-mc-autobad-eve.fif\r\n",
        "\u001b[01;32mempty_room_tsss.fif\u001b[0m*                                              maxfilter_wrapper.py~      sef_bilat-tsss-mc-autobad-fwd.fif\r\n",
        "empty_room_tsss.log                                               \u001b[01;32mmne_forward.sh\u001b[0m*            sef_bilat-tsss-mc-autobad-trans.fif\r\n",
        "\u001b[01;32meo_rest-raw.fif\u001b[0m*                                                  mne_forward.sh~            \u001b[01;32msef_bilat-tsss-mc-autobad.fif\u001b[0m*\r\n",
        "\u001b[01;36mflash05\u001b[0m@                                                          preprocessing_sef.py       sef_bilat-tsss-mc-autobad.log\r\n",
        "\u001b[01;34mfs_subjects_dir\u001b[0m/                                                  preprocessing_sef.py~      sef_bilat-tsss-mc-autobad_lp_40_raw.fif\r\n"
       ]
      }
     ],
     "prompt_number": 21
    },
    {
     "cell_type": "heading",
     "level": 2,
     "metadata": {},
     "source": [
      "Make forward model (in bash)"
     ]
    },
    {
     "cell_type": "code",
     "collapsed": false,
     "input": [],
     "language": "python",
     "metadata": {},
     "outputs": [
      {
       "output_type": "stream",
       "stream": "stdout",
       "text": [
        "\r\n",
        "Setting up the BEM with the following parameters:\r\n",
        "\r\n",
        "SUBJECTS_DIR       = /projects/MEG_EEG-Training/scratch/fs_subjects_dir\r\n",
        "Subject            = 0003_WVZ\r\n",
        "Inner skull        = /projects/MEG_EEG-Training/scratch/fs_subjects_dir/0003_WVZ/bem/0003_WVZ-inner_skull.surf (5120 triangles)\r\n",
        "brain conductivity = 0.3 S/m\r\n",
        "Resulting BEM      = /projects/MEG_EEG-Training/scratch/fs_subjects_dir/0003_WVZ/bem/0003_WVZ-5120-bem.fif\r\n",
        "\r\n",
        ">> 1. Creating the BEM geometry file...\r\n",
        "\r\n",
        "mne_surf2bem version 1.8 compiled at Jun  2 2013 04:22:13\r\n",
        "\r\n",
        "input  file #   1 : /projects/MEG_EEG-Training/scratch/fs_subjects_dir/0003_WVZ/bem/0003_WVZ-inner_skull.surf / id = 1 / sigma = 0.3 S/m\r\n",
        "output file       : /projects/MEG_EEG-Training/scratch/fs_subjects_dir/0003_WVZ/bem/0003_WVZ-5120-bem.fif\r\n",
        "\r\n",
        "Triangle file : Converted tri file nvert = 2562 ntri = 5120\r\n",
        "\tTriangle and vertex normals and neighboring triangles...[done]\r\n",
        "\tVertex neighbors...[done]\r\n",
        "\tDistances between neighboring vertices...[15360 distances done]\r\n",
        "/projects/MEG_EEG-Training/scratch/fs_subjects_dir/0003_WVZ/bem/0003_WVZ-inner_skull.surf read. id = 1\r\n",
        "\r\n",
        "inner skull CM is   2.29 -13.51  37.82 mm\r\n",
        "Surfaces passed the basic topology checks.\r\n",
        "/projects/MEG_EEG-Training/scratch/fs_subjects_dir/0003_WVZ/bem/0003_WVZ-5120-bem.fif written.\r\n",
        "\r\n",
        ">> 2. Creating ascii pnt files for MRIlab...\r\n",
        "\r\n",
        "mne_list_bem version 1.9 compiled at Jun  2 2013 04:22:54\r\n",
        "\r\n",
        "input  file : /projects/MEG_EEG-Training/scratch/fs_subjects_dir/0003_WVZ/bem/0003_WVZ-5120-bem.fif\r\n",
        "output file : /projects/MEG_EEG-Training/scratch/fs_subjects_dir/0003_WVZ/bem/0003_WVZ-inner_skull-5120.pnt\r\n",
        "surface id  : 1\r\n",
        "output in millimeters.\r\n",
        "output the vertex coordinates only.\r\n",
        "done.\r\n",
        "\r\n",
        "mne_list_bem version 1.9 compiled at Jun  2 2013 04:22:54\r\n",
        "\r\n",
        "input  file : /projects/MEG_EEG-Training/scratch/fs_subjects_dir/0003_WVZ/bem/0003_WVZ-5120-bem.fif\r\n",
        "output file : /projects/MEG_EEG-Training/scratch/fs_subjects_dir/0003_WVZ/bem/0003_WVZ-inner_skull-5120.surf\r\n",
        "surface id  : 1\r\n",
        "output in FreeSurfer format.\r\n"
       ]
      },
      {
       "output_type": "stream",
       "stream": "stdout",
       "text": [
        "done.\r\n",
        "\r\n",
        ">> 3. Calculating BEM geometry data (this takes several minutes)...\r\n",
        "\r\n",
        "\r\n",
        "mne_prepare_bem_model version 1.2 compiled at Jun  2 2013 04:18:46\r\n",
        "\r\n",
        "BEM surface file     : /projects/MEG_EEG-Training/scratch/fs_subjects_dir/0003_WVZ/bem/0003_WVZ-5120-bem.fif\r\n",
        "Solution file        : /projects/MEG_EEG-Training/scratch/fs_subjects_dir/0003_WVZ/bem/0003_WVZ-5120-bem-sol.fif\r\n",
        "Approximation method : linear collocation\r\n",
        "\r\n",
        "Loading surfaces...\r\n",
        "\tTriangle normals and neighboring triangles...[done]\r\n",
        "\tVertex neighbors...[done]\r\n",
        "\tDistances between neighboring vertices...[15360 distances done]\r\n",
        "Homogeneous model surface loaded.\r\n",
        "\r\n",
        "Computing the linear collocation solution...\r\n",
        "\tMatrix coefficients...\r\n",
        "\t\tinner skull (2562) -> inner skull (2562) ... "
       ]
      },
      {
       "output_type": "stream",
       "stream": "stdout",
       "text": [
        "[done]\r\n",
        "\tInverting the coefficient matrix...\r\n",
        "\t\tLU factorization...\r\n"
       ]
      },
      {
       "output_type": "stream",
       "stream": "stdout",
       "text": [
        "\t\tCompute inverse...\r\n"
       ]
      },
      {
       "output_type": "stream",
       "stream": "stdout",
       "text": [
        "Solution ready.\r\n",
        "Saving..."
       ]
      },
      {
       "output_type": "stream",
       "stream": "stdout",
       "text": [
        "\r\n",
        "Saved the result to /projects/MEG_EEG-Training/scratch/fs_subjects_dir/0003_WVZ/bem/0003_WVZ-5120-bem-sol.fif\r\n",
        "\r\n",
        "BEM geometry computations complete.\r\n",
        "\r\n",
        "The model /projects/MEG_EEG-Training/scratch/fs_subjects_dir/0003_WVZ/bem/0003_WVZ-5120-bem-sol.fif is now ready for use\r\n",
        "Complete.\r\n",
        " \r\n",
        "Compute forward model\r\n",
        " \r\n"
       ]
      },
      {
       "output_type": "stream",
       "stream": "stdout",
       "text": [
        "\r\n",
        "mne_forward_solution version 2.9 compiled at Jun  2 2013 04:18:39\r\n",
        "\r\n",
        "Source space                 : /projects/MEG_EEG-Training/scratch/fs_subjects_dir/0003_WVZ/bem/0003_WVZ-oct-6-src.fif\r\n",
        "MRI -> head transform source : /volatile/mje/training_data/sef_bilat-tsss-mc-autobad-trans.fif\r\n",
        "Measurement data             : /volatile/mje/training_data/sef_bilat-tsss-mc-autobad.fif\r\n",
        "BEM model                    : /volatile/mje/training_data/fs_subjects_dir/0003_WVZ/bem/0003_WVZ-5120-bem.fif\r\n",
        "Accurate field computations\r\n",
        "Do computations in head coordinates.\r\n",
        "Free source orientations\r\n",
        "Destination for the solution : /volatile/mje/training_data/sef_bilat-tsss-mc-autobad-fwd.fif\r\n",
        "\r\n",
        "Reading /projects/MEG_EEG-Training/scratch/fs_subjects_dir/0003_WVZ/bem/0003_WVZ-oct-6-src.fif...\r\n"
       ]
      },
      {
       "output_type": "stream",
       "stream": "stdout",
       "text": [
        "Read 2 source spaces a total of 8196 active source locations\r\n",
        "\r\n",
        "Coordinate transformation: MRI (surface RAS) -> head\r\n",
        "\t 0.999002 -0.008499 -0.043858\t  -0.08 mm\r\n",
        "\t 0.015913  0.985040  0.171589\t  18.77 mm\r\n",
        "\t 0.041744 -0.172116  0.984192\t   5.69 mm\r\n",
        "\t 0.000000  0.000000  0.000000     1.00\r\n",
        "\r\n",
        "Read 306 MEG channels from /volatile/mje/training_data/sef_bilat-tsss-mc-autobad.fif\r\n",
        "Read  74 EEG channels from /volatile/mje/training_data/sef_bilat-tsss-mc-autobad.fif\r\n",
        "Coordinate transformation: MEG device -> head\r\n",
        "\t 0.993449 -0.092724 -0.066791\t  -0.57 mm\r\n",
        "\t 0.095901  0.994325  0.046050\t  -0.66 mm\r\n",
        "\t 0.062142 -0.052153  0.996704\t  57.62 mm\r\n",
        "\t 0.000000  0.000000  0.000000     1.00\r\n",
        "EEG not requested. EEG channels omitted.\r\n",
        "63 coil definitions read\r\n",
        "Head coordinate coil definitions created.\r\n",
        "Source spaces are now in head coordinates.\r\n",
        "\r\n",
        "Setting up the BEM model using /volatile/mje/training_data/fs_subjects_dir/0003_WVZ/bem/0003_WVZ-5120-bem-sol.fif...\r\n",
        "\r\n",
        "Loading surfaces...\r\n",
        "\tTriangle normals and neighboring triangles...[done]\r\n",
        "\tVertex neighbors...[done]\r\n",
        "\tDistances between neighboring vertices...[15360 distances done]\r\n",
        "Homogeneous model surface loaded.\r\n",
        "\r\n",
        "Loading the solution matrix...\r\n"
       ]
      },
      {
       "output_type": "stream",
       "stream": "stdout",
       "text": [
        "\r\n",
        "Loaded linear collocation BEM solution from /volatile/mje/training_data/fs_subjects_dir/0003_WVZ/bem/0003_WVZ-5120-bem-sol.fif\r\n",
        "Employing the head->MRI coordinate transform with the BEM model.\r\n",
        "BEM model /volatile/mje/training_data/fs_subjects_dir/0003_WVZ/bem/0003_WVZ-5120-bem-sol.fif is now set up\r\n",
        "\r\n",
        "Source spaces are in head coordinates.\r\n",
        "Checking that the sources are inside the inner skull  (will take a few...)\r\n"
       ]
      },
      {
       "output_type": "stream",
       "stream": "stdout",
       "text": [
        "2 source space points omitted because they are outside the inner skull surface.\r\n",
        "Thank you for waiting.\r\n",
        "\r\n",
        "Setting up compensation data...\r\n",
        "\tNo compensation set. Nothing more to do.\r\n",
        "Composing the field computation matrix..."
       ]
      },
      {
       "output_type": "stream",
       "stream": "stdout",
       "text": [
        "[done]\r\n",
        "24 processors. I will use 6 threads : 2 source spaces x 3 source components.\r\n",
        "Computing MEG at 8194 source locations (free orientations)..."
       ]
      },
      {
       "output_type": "stream",
       "stream": "stdout",
       "text": [
        "done.\r\n"
       ]
      },
      {
       "output_type": "stream",
       "stream": "stdout",
       "text": [
        "\r\n",
        "writing /volatile/mje/training_data/sef_bilat-tsss-mc-autobad-fwd.fif..."
       ]
      },
      {
       "output_type": "stream",
       "stream": "stdout",
       "text": [
        "done\r\n",
        "\r\n",
        "Finished.\r\n",
        "\r\n"
       ]
      }
     ]
    },
    {
     "cell_type": "heading",
     "level": 2,
     "metadata": {},
     "source": [
      "load forward model"
     ]
    },
    {
     "cell_type": "code",
     "collapsed": true,
     "input": [
      "mri = data_path + \"sef_bilat-tsss-mc-autobad-epochs.fif\"\n",
      "fwd = mne.read_forward_solution(\"sef_bilat-tsss-mc-autobad-fwd.fif\")\n",
      "\n",
      "# convert to surface orientation for better visualization\n",
      "fwd = mne.convert_forward_solution(fwd, surf_ori=True)"
     ],
     "language": "python",
     "metadata": {},
     "outputs": []
    },
    {
     "cell_type": "heading",
     "level": 2,
     "metadata": {},
     "source": [
      "Compute inverse solution"
     ]
    },
    {
     "cell_type": "code",
     "collapsed": false,
     "input": [
      "# inversion variables\n",
      "snr = 1.0\n",
      "lambda2 = 1.0 / snr ** 2\n",
      "methods = [\"dSPM\", \"MNE\"]\n",
      "\n",
      "for method in methods:\n",
      "    \"\"\" loop over methods to make inverse operator for each method\n",
      "    \"\"\"\n",
      "    inv_op = make_inverse_operator(raw.info, forward=fwd,\n",
      "                                          noise_cov=cov,\n",
      "                                          loose=0.2, depth=0.8)\n",
      "#    write_inverse_operator(\n",
      "#        \"sef_bilat-tsss-mc-autobad%s-inv.fif\"\n",
      "#        % (method), inv_op_normal)\n"
     ],
     "language": "python",
     "metadata": {},
     "outputs": []
    }
   ],
   "metadata": {}
  }
 ]
}