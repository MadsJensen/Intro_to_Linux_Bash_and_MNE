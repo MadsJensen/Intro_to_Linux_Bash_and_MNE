{
 "metadata": {
  "name": "",
  "signature": "sha256:5fa0a98520dfa8cab8d1ee4b65708865f6dd1eaa5c4673514756b0fa5621a6b1"
 },
 "nbformat": 3,
 "nbformat_minor": 0,
 "worksheets": [
  {
   "cells": [
    {
     "cell_type": "heading",
     "level": 1,
     "metadata": {},
     "source": [
      "Introduction to MNE"
     ]
    },
    {
     "cell_type": "heading",
     "level": 2,
     "metadata": {},
     "source": [
      "Overview of the MNE family"
     ]
    },
    {
     "cell_type": "markdown",
     "metadata": {},
     "source": [
      "* What is MNE?\n",
      "\t- MNE-C\n",
      "\t- MNE-python\n",
      "\t- MNE-Matlab\n",
      "\t- MNE-scripts\n"
     ]
    },
    {
     "cell_type": "heading",
     "level": 1,
     "metadata": {},
     "source": [
      "MNE-python"
     ]
    },
    {
     "cell_type": "heading",
     "level": 2,
     "metadata": {},
     "source": [
      "import settings"
     ]
    },
    {
     "cell_type": "code",
     "collapsed": false,
     "input": [
      "import numpy as np\n",
      "import mne\n",
      "from mne.preprocessing import ICA\n",
      "from mne.minimum_norm import (make_inverse_operator,\n",
      "                              write_inverse_operator)\n",
      "import os\n",
      "# directories ISIS\n",
      "subjects_dir = \"/volatile/mje/training_data/fs_subjects_dir/\"\n",
      "data_path = \"/volatile/mje/training_data/\"\n",
      "\n",
      "os.chdir(data_path)\n",
      "\n",
      "n_jobs = 4 # number of processors to use\n",
      "\n",
      "# epoch variables\n",
      "tmin, tmax = -0.5, 0.5\n",
      "baseline = (-0.5, -0.3)  # baseline time\n",
      "reject = dict(mag=4e-12, grad=4000e-13)\n",
      "\n",
      "fs_sub = \"0003_WVZ\""
     ],
     "language": "python",
     "metadata": {},
     "outputs": [],
     "prompt_number": 1
    },
    {
     "cell_type": "heading",
     "level": 2,
     "metadata": {},
     "source": [
      "Processing raw files"
     ]
    },
    {
     "cell_type": "code",
     "collapsed": false,
     "input": [
      "raw = mne.fiff.Raw(data_path +\n",
      "                          \"sef_bilat-tsss-mc-autobad.fif\", preload=True)\n",
      "\n",
      "picks = mne.fiff.pick_types(raw.info, meg=True, eeg=False, eog=True,\n",
      "                                   emg=True, ecg=True, exclude='bads')\n",
      "\n",
      "raw.filter(None, 48, method='iir', n_jobs=n_jobs)\n"
     ],
     "language": "python",
     "metadata": {},
     "outputs": []
    },
    {
     "cell_type": "code",
     "collapsed": false,
     "input": [
      "events = mne.find_events(raw, stim_channel='STI101')\n",
      "event_ids = {\"Left\": 1, \"Right\": 2}  # check this is right\n",
      "\n",
      "epochs = mne.Epochs(raw, events, event_ids, tmin, tmax,\n",
      "                           picks=picks, baseline=(None, -0.2),\n",
      "                           preload=True, reject=reject)\n",
      "\n",
      "mne.viz.plot_drop_log(epochs.drop_log)"
     ],
     "language": "python",
     "metadata": {},
     "outputs": []
    },
    {
     "cell_type": "heading",
     "level": 2,
     "metadata": {},
     "source": [
      "ICA"
     ]
    },
    {
     "cell_type": "code",
     "collapsed": false,
     "input": [
      "ica = ICA(n_components=0.90, n_pca_components=64,\n",
      "          max_pca_components=100,\n",
      "          noise_cov=None)\n",
      "\n",
      "ica.decompose_epochs(epochs)\n",
      "\n",
      "eog_scores_1_normal = ica.find_sources_epochs(epochs, target=\"EOG001\",\n",
      "                                              score_func=\"pearsonr\")\n",
      "eog_scores_2_normal = ica.find_sources_epochs(epochs, target=\"EOG003\",\n",
      "                                              score_func=\"pearsonr\")\n",
      "\n",
      "# get maximum correlation index for EOG\n",
      "eog_source_idx_1_normal = np.abs(eog_scores_1_normal).argmax()\n",
      "eog_source_idx_2_normal = np.abs(eog_scores_2_normal).argmax()\n",
      "\n",
      "source_idx = range(0, ica.n_components_)\n",
      "ica.plot_topomap(source_idx, ch_type=\"mag\")\n",
      "# select ICA sources and reconstruct MEG signals, compute clean ERFs\n",
      "# Add detected artefact sources to exclusion list\n",
      "# We now add the eog artefacts to the ica.exclusion list\n",
      "if eog_source_idx_1_normal == eog_source_idx_2_normal:\n",
      "    ica.exclude += [eog_source_idx_1_normal]\n",
      "elif eog_source_idx_1_normal != eog_source_idx_2_normal:\n",
      "    ica.exclude += [eog_source_idx_1_normal, eog_source_idx_2_normal]\n",
      "\n",
      "# remove ECG\n",
      "ecg_ch_name = 'ECG002'\n",
      "ecg_scores = ica.find_sources_epochs(epochs, target=ecg_ch_name,\n",
      "                                     score_func='pearsonr')\n",
      "\n",
      "# get the source most correlated with the ECG.\n",
      "ecg_source_idx = np.argsort(np.abs(ecg_scores))[-1]\n",
      "ica.exclude += [ecg_source_idx]\n",
      "\n",
      "\n",
      "\n",
      "# Restore sensor space data\n",
      "# plot spatial sensitivities of a few ICA components\n",
      "# title = 'Spatial patterns of ICA components (Magnetometers)'\n",
      "# source_idx = range(0, ica.n_components_)\n",
      "# ica.plot_topomap(source_idx, ch_type='mag')\n",
      "# plt.suptitle(title, fontsize=12)\n",
      "\n",
      "epochs_ica = ica.pick_sources_epochs(epochs)\n",
      "# epochs_ica.save(\"sef_bilat-tsss-mc-autobad-epochs.fif\")\n"
     ],
     "language": "python",
     "metadata": {},
     "outputs": []
    },
    {
     "cell_type": "heading",
     "level": 2,
     "metadata": {},
     "source": [
      "Evoked data"
     ]
    },
    {
     "cell_type": "code",
     "collapsed": false,
     "input": [
      "evoked_left = epochs_ica[\"Left\"].average()\n",
      "evoked_right = epochs_ica[\"Right\"].average()"
     ],
     "language": "python",
     "metadata": {},
     "outputs": []
    },
    {
     "cell_type": "code",
     "collapsed": false,
     "input": [
      "evoked_left.plot()\n",
      "evoked_right.plot()"
     ],
     "language": "python",
     "metadata": {},
     "outputs": []
    },
    {
     "cell_type": "heading",
     "level": 2,
     "metadata": {},
     "source": [
      "Estimate noise covariance"
     ]
    },
    {
     "cell_type": "code",
     "collapsed": false,
     "input": [
      "cov = mne.compute_covariance(epochs, tmin=None, tmax=-0.2)\n",
      "mne.viz.plot_cov(cov, raw.info, colorbar=True, proj=True)\n",
      "\n",
      "# save noise cov\n",
      "# cov.save(\"sef_bilat-tsss-mc-autobad.fif\")"
     ],
     "language": "python",
     "metadata": {},
     "outputs": []
    },
    {
     "cell_type": "heading",
     "level": 2,
     "metadata": {},
     "source": [
      "Make forward model (in bash)"
     ]
    },
    {
     "cell_type": "code",
     "collapsed": false,
     "input": [
      "%%bash\n",
      "./mne_forward"
     ],
     "language": "python",
     "metadata": {},
     "outputs": []
    },
    {
     "cell_type": "code",
     "collapsed": false,
     "input": [],
     "language": "python",
     "metadata": {},
     "outputs": []
    }
   ],
   "metadata": {}
  }
 ]
}