{
 "cells": [
  {
   "cell_type": "markdown",
   "metadata": {},
   "source": [
    "# Access your data from your own computer #"
   ]
  },
  {
   "cell_type": "markdown",
   "metadata": {},
   "source": [
    "## Wiki ##\n",
    "\n",
    "[wiki.pet.auh.dk/wiki/Remote_Desktop_Hyades](http://wiki.pet.auh.dk/wiki/Remote_Desktop_Hyades)\n",
    "\n",
    "[wiki.pet.auh.dk/wiki/Mount_Hyades_Mac](http://wiki.pet.auh.dk/wiki/Mount_Hyades_Mac)\n"
   ]
  },
  {
   "cell_type": "markdown",
   "metadata": {},
   "source": [
    "\n",
    "## Remote Desktop ##\n",
    "\n",
    "- Graphical interface\n",
    "- Login from both DNC & outside\n",
    "\t- VPN-like"
   ]
  },
  {
   "cell_type": "markdown",
   "metadata": {},
   "source": [
    "## Mount ##\n",
    "\n",
    "Make an external file system accessible for the present computer.\n",
    "\n",
    "- Filesystems (*nix)\n",
    "\t- e.g. usb-stick & CD-rom."
   ]
  },
  {
   "cell_type": "code",
   "execution_count": 1,
   "metadata": {
    "collapsed": false
   },
   "outputs": [
    {
     "data": {
      "text/html": [
       "<img src=\"https://github.com/MadsJensen/Intro_to_Linux_Bash_and_MNE/blob/master/projects_file_system.jpg\"/>"
      ],
      "text/plain": [
       "<IPython.core.display.Image object>"
      ]
     },
     "execution_count": 1,
     "metadata": {},
     "output_type": "execute_result"
    }
   ],
   "source": [
    "from IPython.display import Image\n",
    "from IPython.core.display import HTML \n",
    "Image(url= \"https://github.com/MadsJensen/Intro_to_Linux_Bash_and_MNE/blob/master/projects_file_system.jpg\")"
   ]
  },
  {
   "cell_type": "markdown",
   "metadata": {},
   "source": [
    "![Image of Yaktocat](https://www.dropbox.com/s/2kelm3pw9zatnot/projects_file_system.jpg?dl=0)"
   ]
  },
  {
   "cell_type": "markdown",
   "metadata": {},
   "source": [
    "- SSHFS \n",
    "- SSH\n",
    "\t- *Inside* DNC -> drive\n",
    "\t- *Outside* DNC -> terminal"
   ]
  },
  {
   "cell_type": "markdown",
   "metadata": {},
   "source": []
  }
 ],
 "metadata": {
  "kernelspec": {
   "display_name": "Python 2",
   "language": "python",
   "name": "python2"
  },
  "language_info": {
   "codemirror_mode": {
    "name": "ipython",
    "version": 2
   },
   "file_extension": ".py",
   "mimetype": "text/x-python",
   "name": "python",
   "nbconvert_exporter": "python",
   "pygments_lexer": "ipython2",
   "version": "2.7.10"
  }
 },
 "nbformat": 4,
 "nbformat_minor": 0
}
